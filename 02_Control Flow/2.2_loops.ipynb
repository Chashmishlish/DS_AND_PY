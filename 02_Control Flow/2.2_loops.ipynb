{
 "cells": [
  {
   "cell_type": "markdown",
   "id": "26cb7a2f",
   "metadata": {},
   "source": [
    "#### Loops\n",
    "1. Introduction to Loops\n",
    "2. for Loop\n",
    "     * Iterating over a range\n",
    "     * Iterating over a string\n",
    "3. while Loop\n",
    "4. Loop Control Statements\n",
    "     * break\n",
    "     * continue\n",
    "     * pass\n",
    "4. Nested Loops\n",
    "5. Practical Examples and Common Errors"
   ]
  },
  {
   "cell_type": "code",
   "execution_count": null,
   "id": "d979c825",
   "metadata": {},
   "outputs": [],
   "source": []
  }
 ],
 "metadata": {
  "language_info": {
   "name": "python"
  }
 },
 "nbformat": 4,
 "nbformat_minor": 5
}
