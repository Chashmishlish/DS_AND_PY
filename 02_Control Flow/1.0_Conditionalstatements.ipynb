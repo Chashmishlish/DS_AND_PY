{
 "cells": [
  {
   "cell_type": "markdown",
   "id": "8dd8a793",
   "metadata": {},
   "source": [
    "#### Conditional Statements (if, elif, else)\n",
    "1. Introduction to Conditional Statements\n",
    "2. if Statement\n",
    "3. else Statement\n",
    "4. elif Statement\n",
    "5. Nested Conditional Statements\n",
    "6. Practical Examples\n",
    "7. Common Errors and Best Practices"
   ]
  },
  {
   "cell_type": "code",
   "execution_count": 3,
   "id": "2949c5c1",
   "metadata": {},
   "outputs": [
    {
     "name": "stdout",
     "output_type": "stream",
     "text": [
      "You are allowed to vote in the elections\n"
     ]
    }
   ],
   "source": [
    "## if statement\n",
    "age = 20\n",
    "\n",
    "if age >= 18:\n",
    "    print(\"You are allowed to vote in the elections\")"
   ]
  },
  {
   "cell_type": "code",
   "execution_count": null,
   "id": "f1edcd68",
   "metadata": {},
   "outputs": [
    {
     "data": {
      "text/plain": [
       "True"
      ]
     },
     "execution_count": 4,
     "metadata": {},
     "output_type": "execute_result"
    }
   ],
   "source": [
    "age >= 18 #checking if condition is true or not"
   ]
  },
  {
   "cell_type": "code",
   "execution_count": 6,
   "id": "0ffd05d8",
   "metadata": {},
   "outputs": [
    {
     "name": "stdout",
     "output_type": "stream",
     "text": [
      "You are a minor\n"
     ]
    }
   ],
   "source": [
    "## else\n",
    "## The else statement executes a block of code \n",
    "## if the condition in the if statement is False.\n",
    "\n",
    "age = 16\n",
    "\n",
    "if age >= 18:\n",
    "    print(\"You are eligible for voting\")\n",
    "else:\n",
    "    print(\"You are a minor\")"
   ]
  },
  {
   "cell_type": "code",
   "execution_count": 9,
   "id": "18dcc2f3",
   "metadata": {},
   "outputs": [
    {
     "data": {
      "text/plain": [
       "False"
      ]
     },
     "execution_count": 9,
     "metadata": {},
     "output_type": "execute_result"
    }
   ],
   "source": [
    "age >= 18 "
   ]
  },
  {
   "cell_type": "code",
   "execution_count": 13,
   "id": "b3bf7ae2",
   "metadata": {},
   "outputs": [
    {
     "name": "stdout",
     "output_type": "stream",
     "text": [
      "You are a teenager!\n"
     ]
    }
   ],
   "source": [
    "## elif\n",
    "## The elif statement allows you to check multiple conditions. \n",
    "## It stands for \"else if\"\n",
    "\n",
    "age = 18\n",
    "\n",
    "if age < 13:\n",
    "    print(\"You are a child!\")\n",
    "elif age < 20:\n",
    "    print(\"You are a teenager!\")\n",
    "else:\n",
    "    print(\"You are an adult!\")"
   ]
  },
  {
   "cell_type": "code",
   "execution_count": 16,
   "id": "4dbfd59c",
   "metadata": {},
   "outputs": [
    {
     "name": "stdout",
     "output_type": "stream",
     "text": [
      "You entered: 2\n",
      "The number is positive\n",
      "The number is even\n"
     ]
    }
   ],
   "source": [
    "## Nested Condiitonal Statements\n",
    "# You can place one or more if, elif, \n",
    "# or else statements inside another if, elif, or else statement \n",
    "# to create nested conditional statements.\n",
    "# Q: Whether number is even ,odd, or negative\n",
    "\n",
    "num = int(input(\"Enter the number\"))\n",
    "print(\"You entered:\", num)  # print the input value\n",
    "\n",
    "if num > 0:  #greater than 0\n",
    "    print(\"The number is positive\")\n",
    "\n",
    "    if num % 2 == 0:\n",
    "        print(\"The number is even\")\n",
    "    else:\n",
    "        print(\"The number is odd\")\n",
    "\n",
    "else:\n",
    "    print(\"The number is zero or negative\")"
   ]
  },
  {
   "cell_type": "code",
   "execution_count": 24,
   "id": "c4876460",
   "metadata": {},
   "outputs": [
    {
     "name": "stdout",
     "output_type": "stream",
     "text": [
      "You entered: -3\n",
      "The number -3 is zero or negative\n"
     ]
    }
   ],
   "source": [
    "# Another way \n",
    "num = int(input(\"Enter the number\"))\n",
    "print(\"You entered:\", num)  # print the input value\n",
    "\n",
    "if num > 0:\n",
    "    print(f\"The number {num} is positive\")\n",
    "    if num % 2 == 0:\n",
    "        print(f\"The number {num} is even\")\n",
    "    else:\n",
    "        print(f\"The number {num} is odd\")\n",
    "else:\n",
    "    print(f\"The number {num} is zero or negative\")\n",
    "\n",
    "## The f stands for formatted string (or f-string) in Python.\n",
    "## It allows you to directly insert variables or expressions \n",
    "# inside a string using curly braces {}.\n",
    "\n",
    "\n"
   ]
  },
  {
   "cell_type": "code",
   "execution_count": 33,
   "id": "ccf80ff1",
   "metadata": {},
   "outputs": [
    {
     "data": {
      "text/plain": [
       "method"
      ]
     },
     "execution_count": 33,
     "metadata": {},
     "output_type": "execute_result"
    }
   ],
   "source": [
    "type (input)"
   ]
  },
  {
   "cell_type": "code",
   "execution_count": 18,
   "id": "ffec66ad",
   "metadata": {},
   "outputs": [
    {
     "name": "stdout",
     "output_type": "stream",
     "text": [
      "My name is Alishba and I am 19 years old.\n"
     ]
    }
   ],
   "source": [
    "## If you don’t use f, you have to concatenate like this:\n",
    "name = \"Alishba\"\n",
    "age = 19\n",
    "\n",
    "print(\"My name is \" + name + \" and I am \" + str(age) + \" years old.\")\n"
   ]
  },
  {
   "cell_type": "code",
   "execution_count": 38,
   "id": "624b16bd",
   "metadata": {},
   "outputs": [
    {
     "name": "stdout",
     "output_type": "stream",
     "text": [
      "2028 is a leap year\n"
     ]
    }
   ],
   "source": [
    "## Practical Examples\n",
    "## Determine if a year is a leap year using nested condition statement\n",
    "\n",
    "year = int(input(\"Enter the year\"))\n",
    "\n",
    "if year % 4 == 0:\n",
    "    if year % 100 == 0:\n",
    "        if year % 400 == 0:\n",
    "            print(year,\"is a leap year\")\n",
    "        else:\n",
    "            print(year,\"is not a leap year\")\n",
    "    else:\n",
    "        print(year,\"is a leap year\")\n",
    "\n",
    "else:\n",
    "    print(year,\"is not a leap year\")"
   ]
  },
  {
   "cell_type": "code",
   "execution_count": null,
   "id": "1411fc36",
   "metadata": {},
   "outputs": [],
   "source": []
  }
 ],
 "metadata": {
  "kernelspec": {
   "display_name": "Python 3",
   "language": "python",
   "name": "python3"
  },
  "language_info": {
   "codemirror_mode": {
    "name": "ipython",
    "version": 3
   },
   "file_extension": ".py",
   "mimetype": "text/x-python",
   "name": "python",
   "nbconvert_exporter": "python",
   "pygments_lexer": "ipython3",
   "version": "3.10.18"
  }
 },
 "nbformat": 4,
 "nbformat_minor": 5
}
