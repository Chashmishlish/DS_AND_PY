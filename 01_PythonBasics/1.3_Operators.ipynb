{
 "cells": [
  {
   "cell_type": "markdown",
   "id": "b9758936",
   "metadata": {},
   "source": [
    "#### Deep Dive into Operators\n",
    "Outline\n",
    "1. Introduction to Operators\n",
    "2. Arithmetic Operators\n",
    "    * Addition\n",
    "    * Subtraction\n",
    "    * Multiplication\n",
    "    * Division \n",
    "    * Floor Division\n",
    "    * Modulus\n",
    "    * Exponentiation\n",
    "3. Comparison Operators\n",
    "    * Equal to\n",
    "    * Not equal to\n",
    "    * Greater than\n",
    "    * Less than\n",
    "    * Greater than or equal to\n",
    "    * Less than or equal to\n",
    "4. Logical Operators\n",
    "    * AND\n",
    "    * OR\n",
    "    * NOT\n",
    "5. Practical Examples and Common Errors\n",
    "\n",
    "###### Shortcut for cells : escape and press A, automatically cells will get appendant"
   ]
  },
  {
   "cell_type": "markdown",
   "id": "07e88973",
   "metadata": {},
   "source": [
    "#### Arithmethic Operation"
   ]
  },
  {
   "cell_type": "code",
   "execution_count": null,
   "id": "a36f657e",
   "metadata": {},
   "outputs": [
    {
     "name": "stdout",
     "output_type": "stream",
     "text": [
      "12\n",
      "8\n",
      "20\n",
      "5.0\n",
      "5\n",
      "0\n",
      "100\n"
     ]
    }
   ],
   "source": [
    "## Arithmethic Operation\n",
    "\n",
    "a = 10\n",
    "b = 2\n",
    "\n",
    "add_result = a + b           ## addiiton\n",
    "sub_result = a - b           ##substraction \n",
    "mult_result = a * b          ## multiplication\n",
    "div_result = a / b           ## division\n",
    "floor_div_result = a // b    ## floor division\n",
    "exponent_result= a ** b      ## Exponentiation\n",
    "modulus_result = a % b       ## modulus operation (remainder)\n",
    "\n",
    "\n",
    "print(add_result)\n",
    "print(sub_result)\n",
    "print(mult_result)\n",
    "print(div_result)\n",
    "print(floor_div_result)\n",
    "print(modulus_result)\n",
    "print(exponent_result)"
   ]
  },
  {
   "cell_type": "code",
   "execution_count": null,
   "id": "0901b6f4",
   "metadata": {},
   "outputs": [
    {
     "name": "stdout",
     "output_type": "stream",
     "text": [
      "12 8 20 5.0 5 0 100\n"
     ]
    }
   ],
   "source": [
    "## One line print statement\n",
    "## all results separated by spaces  \n",
    "print(add_result, sub_result, mult_result, div_result, floor_div_result, modulus_result, exponent_result)"
   ]
  },
  {
   "cell_type": "code",
   "execution_count": 7,
   "id": "de0b253f",
   "metadata": {},
   "outputs": [
    {
     "name": "stdout",
     "output_type": "stream",
     "text": [
      "Add: 12 | Sub: 8 | Mul: 20 | Div: 5.0 | Floor Div: 5 | Mod: 0 | Exp: 100\n",
      "Add: 7 | Sub: 3 | Mul: 10 | Div: 2.5 | Floor Div: 2 | Mod: 1 | Exp: 25\n"
     ]
    }
   ],
   "source": [
    "a = 5\n",
    "b = 2\n",
    "\n",
    "print(\"Add:\", add_result, \"| Sub:\", sub_result, \"| Mul:\", mult_result, \"| Div:\", div_result,\n",
    "      \"| Floor Div:\", floor_div_result, \"| Mod:\", modulus_result, \"| Exp:\", exponent_result)\n",
    "\n",
    "# this won't run...\n",
    "# changing a and b does not automatically update add_result, sub_result, etc. \n",
    "# unless you re-run the cell where you computed them\n",
    "\n",
    "a = 5\n",
    "b = 2\n",
    "\n",
    "print(\"Add:\", a + b, \"| Sub:\", a - b, \"| Mul:\", a * b, \"| Div:\", a / b,\n",
    "      \"| Floor Div:\", a // b, \"| Mod:\", a % b, \"| Exp:\", a ** b)\n"
   ]
  },
  {
   "cell_type": "code",
   "execution_count": 8,
   "id": "64fd64c1",
   "metadata": {},
   "outputs": [
    {
     "data": {
      "text/plain": [
       "2.0"
      ]
     },
     "execution_count": 8,
     "metadata": {},
     "output_type": "execute_result"
    }
   ],
   "source": [
    "10/5"
   ]
  },
  {
   "cell_type": "code",
   "execution_count": 9,
   "id": "baf4003c",
   "metadata": {},
   "outputs": [
    {
     "data": {
      "text/plain": [
       "4.2"
      ]
     },
     "execution_count": 9,
     "metadata": {},
     "output_type": "execute_result"
    }
   ],
   "source": [
    "21/5"
   ]
  },
  {
   "cell_type": "code",
   "execution_count": 10,
   "id": "6c108f6e",
   "metadata": {},
   "outputs": [
    {
     "data": {
      "text/plain": [
       "4"
      ]
     },
     "execution_count": 10,
     "metadata": {},
     "output_type": "execute_result"
    }
   ],
   "source": [
    "21//5"
   ]
  },
  {
   "cell_type": "markdown",
   "id": "d9bc7c84",
   "metadata": {},
   "source": [
    "#### Comparison Operators"
   ]
  },
  {
   "cell_type": "code",
   "execution_count": 11,
   "id": "fa63da8f",
   "metadata": {},
   "outputs": [
    {
     "data": {
      "text/plain": [
       "True"
      ]
     },
     "execution_count": 11,
     "metadata": {},
     "output_type": "execute_result"
    }
   ],
   "source": [
    "## Comparison Operators\n",
    "## == Equal to\n",
    "\n",
    "a = 10\n",
    "b = 10\n",
    "\n",
    "a == b\n"
   ]
  },
  {
   "cell_type": "code",
   "execution_count": 17,
   "id": "04378cad",
   "metadata": {},
   "outputs": [
    {
     "data": {
      "text/plain": [
       "False"
      ]
     },
     "execution_count": 17,
     "metadata": {},
     "output_type": "execute_result"
    }
   ],
   "source": [
    "stra = \"Alish\"\n",
    "strb = \"Khan\"\n",
    "\n",
    "stra == strb"
   ]
  },
  {
   "cell_type": "code",
   "execution_count": 23,
   "id": "60bd0634",
   "metadata": {},
   "outputs": [
    {
     "data": {
      "text/plain": [
       "True"
      ]
     },
     "execution_count": 23,
     "metadata": {},
     "output_type": "execute_result"
    }
   ],
   "source": [
    "str1 = \"ALISH\"\n",
    "str2 = \"ALISH\"\n",
    "\n",
    "str1==str2"
   ]
  },
  {
   "cell_type": "code",
   "execution_count": 26,
   "id": "641fa549",
   "metadata": {},
   "outputs": [
    {
     "data": {
      "text/plain": [
       "False"
      ]
     },
     "execution_count": 26,
     "metadata": {},
     "output_type": "execute_result"
    }
   ],
   "source": [
    "## Not Equal to !=\n",
    "str1 != str2"
   ]
  },
  {
   "cell_type": "code",
   "execution_count": 27,
   "id": "43bc8a45",
   "metadata": {},
   "outputs": [
    {
     "data": {
      "text/plain": [
       "True"
      ]
     },
     "execution_count": 27,
     "metadata": {},
     "output_type": "execute_result"
    }
   ],
   "source": [
    "stra != strb"
   ]
  },
  {
   "cell_type": "code",
   "execution_count": null,
   "id": "e9b8be18",
   "metadata": {},
   "outputs": [
    {
     "data": {
      "text/plain": [
       "True"
      ]
     },
     "execution_count": 28,
     "metadata": {},
     "output_type": "execute_result"
    }
   ],
   "source": [
    "str3 = \"KHAN\"\n",
    "str4 = \"khan\"\n",
    "\n",
    "str3 != str4\n",
    "# true because both of them are not equal"
   ]
  },
  {
   "cell_type": "code",
   "execution_count": 29,
   "id": "db0e8178",
   "metadata": {},
   "outputs": [
    {
     "data": {
      "text/plain": [
       "False"
      ]
     },
     "execution_count": 29,
     "metadata": {},
     "output_type": "execute_result"
    }
   ],
   "source": [
    "# greater than >\n",
    "\n",
    "num1 = 45\n",
    "num2 = 55\n",
    "\n",
    "num1 > num2"
   ]
  },
  {
   "cell_type": "code",
   "execution_count": 30,
   "id": "12040794",
   "metadata": {},
   "outputs": [
    {
     "name": "stdout",
     "output_type": "stream",
     "text": [
      "True\n"
     ]
    }
   ],
   "source": [
    "\n",
    "## less than <\n",
    "\n",
    "print (num1 < num2)"
   ]
  },
  {
   "cell_type": "code",
   "execution_count": 31,
   "id": "d699678b",
   "metadata": {},
   "outputs": [
    {
     "name": "stdout",
     "output_type": "stream",
     "text": [
      "True\n"
     ]
    }
   ],
   "source": [
    "#greater than or equal to\n",
    "number1 = 45\n",
    "number2 = 45\n",
    "\n",
    "print (number1 >= number2)"
   ]
  },
  {
   "cell_type": "code",
   "execution_count": 32,
   "id": "e864f193",
   "metadata": {},
   "outputs": [
    {
     "name": "stdout",
     "output_type": "stream",
     "text": [
      "True\n"
     ]
    }
   ],
   "source": [
    "#less than or equal to\n",
    "number1 = 44\n",
    "number2 = 45\n",
    "\n",
    "print (number1<=number2)"
   ]
  },
  {
   "cell_type": "markdown",
   "id": "e7061db5",
   "metadata": {},
   "source": [
    "#### Logical Operators\n",
    "And , Not, OR"
   ]
  },
  {
   "cell_type": "code",
   "execution_count": null,
   "id": "e6402974",
   "metadata": {},
   "outputs": [
    {
     "name": "stdout",
     "output_type": "stream",
     "text": [
      "True\n"
     ]
    }
   ],
   "source": [
    "## And \n",
    "X = True\n",
    "Y = True\n",
    "\n",
    "result = X and Y\n",
    "print (result)"
   ]
  },
  {
   "cell_type": "code",
   "execution_count": 2,
   "id": "7e572a8c",
   "metadata": {},
   "outputs": [
    {
     "name": "stdout",
     "output_type": "stream",
     "text": [
      "False\n"
     ]
    }
   ],
   "source": [
    "X = False\n",
    "Y = True\n",
    "\n",
    "result = X and Y\n",
    "print (result)"
   ]
  },
  {
   "cell_type": "code",
   "execution_count": 3,
   "id": "9fe8ba4a",
   "metadata": {},
   "outputs": [
    {
     "name": "stdout",
     "output_type": "stream",
     "text": [
      "False\n"
     ]
    }
   ],
   "source": [
    "## OR\n",
    "X = False\n",
    "Y = False\n",
    "\n",
    "result = X or Y\n",
    "print (result) "
   ]
  },
  {
   "cell_type": "code",
   "execution_count": null,
   "id": "7d972591",
   "metadata": {},
   "outputs": [
    {
     "data": {
      "text/plain": [
       "True"
      ]
     },
     "execution_count": 6,
     "metadata": {},
     "output_type": "execute_result"
    }
   ],
   "source": [
    "# Not operator - reverse of boolean\n",
    "X = False\n",
    "not X\n"
   ]
  },
  {
   "cell_type": "markdown",
   "id": "078e9546",
   "metadata": {},
   "source": [
    "#### Simple Calculator"
   ]
  },
  {
   "cell_type": "code",
   "execution_count": 7,
   "id": "a4c37002",
   "metadata": {},
   "outputs": [
    {
     "name": "stdout",
     "output_type": "stream",
     "text": [
      "Addition: 16.0\n",
      "Subtraction: 8.0\n",
      "Multiplication: 48.0\n",
      "Division: 3.0\n",
      "Floor Division: 3.0\n",
      "Modulus: 0.0\n",
      "Exponentiation: 20736.0\n"
     ]
    }
   ],
   "source": [
    "\n",
    "\n",
    "# Simple calculator\n",
    "num1 = float(input(\"Enter first number: \"))\n",
    "num2 = float(input(\"Enter second number: \"))\n",
    "\n",
    "# Performing arithmetic operations\n",
    "addition = num1 + num2\n",
    "subtraction = num1 - num2\n",
    "multiplication = num1 * num2\n",
    "division = num1 / num2\n",
    "floor_division = num1 // num2\n",
    "modulus = num1 % num2\n",
    "exponentiation = num1 ** num2\n",
    "\n",
    "# Displaying results\n",
    "print(\"Addition:\", addition)\n",
    "print(\"Subtraction:\", subtraction)\n",
    "print(\"Multiplication:\", multiplication)\n",
    "print(\"Division:\", division)\n",
    "print(\"Floor Division:\", floor_division)\n",
    "print(\"Modulus:\", modulus)\n",
    "print(\"Exponentiation:\", exponentiation)"
   ]
  },
  {
   "cell_type": "code",
   "execution_count": 8,
   "id": "711881c2",
   "metadata": {},
   "outputs": [],
   "source": [
    "## This is it! "
   ]
  }
 ],
 "metadata": {
  "kernelspec": {
   "display_name": "Python 3",
   "language": "python",
   "name": "python3"
  },
  "language_info": {
   "codemirror_mode": {
    "name": "ipython",
    "version": 3
   },
   "file_extension": ".py",
   "mimetype": "text/x-python",
   "name": "python",
   "nbconvert_exporter": "python",
   "pygments_lexer": "ipython3",
   "version": "3.10.18"
  }
 },
 "nbformat": 4,
 "nbformat_minor": 5
}
