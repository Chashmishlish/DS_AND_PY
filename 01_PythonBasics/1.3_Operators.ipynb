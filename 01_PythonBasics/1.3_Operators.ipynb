{
 "cells": [
  {
   "cell_type": "markdown",
   "id": "b9758936",
   "metadata": {},
   "source": [
    "#### Deep Dive into Operators\n",
    "Outline\n",
    "1. Introduction to Operators\n",
    "2. Arithmetic Operators\n",
    "* Addition\n",
    "* Subtraction\n",
    "* Multiplication\n",
    "* Division \n",
    "* Floor Division\n",
    "* Modulus\n",
    "* Exponentiation\n",
    "3. Comparison Operators\n",
    "* Equal to\n",
    "* Not equal to\n",
    "* Greater than\n",
    "* Less than\n",
    "* Greater than or equal to\n",
    "* Less than or equal to\n",
    "4. Logical Operators\n",
    "* AND\n",
    "* OR\n",
    "* NOT\n",
    "5. Practical Examples and Common Errors"
   ]
  },
  {
   "cell_type": "code",
   "execution_count": null,
   "id": "a36f657e",
   "metadata": {
    "vscode": {
     "languageId": "plaintext"
    }
   },
   "outputs": [],
   "source": []
  }
 ],
 "metadata": {
  "language_info": {
   "name": "python"
  }
 },
 "nbformat": 4,
 "nbformat_minor": 5
}
