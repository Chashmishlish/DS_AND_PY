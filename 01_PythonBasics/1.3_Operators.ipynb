{
 "cells": [
  {
   "cell_type": "markdown",
   "id": "b9758936",
   "metadata": {},
   "source": [
    "#### Deep Dive into Operators\n",
    "Outline\n",
    "1. Introduction to Operators\n",
    "2. Arithmetic Operators\n",
    "    * Addition\n",
    "    * Subtraction\n",
    "    * Multiplication\n",
    "    * Division \n",
    "    * Floor Division\n",
    "    * Modulus\n",
    "    * Exponentiation\n",
    "3. Comparison Operators\n",
    "    * Equal to\n",
    "    * Not equal to\n",
    "    * Greater than\n",
    "    * Less than\n",
    "    * Greater than or equal to\n",
    "    * Less than or equal to\n",
    "4. Logical Operators\n",
    "    * AND\n",
    "    * OR\n",
    "    * NOT\n",
    "5. Practical Examples and Common Errors\n",
    "\n",
    "###### Shortcut for cells : escape and press A, automatically cells will get appendant"
   ]
  },
  {
   "cell_type": "code",
   "execution_count": 2,
   "id": "a36f657e",
   "metadata": {},
   "outputs": [
    {
     "name": "stdout",
     "output_type": "stream",
     "text": [
      "12\n",
      "8\n",
      "20\n",
      "5.0\n",
      "5\n",
      "0\n",
      "100\n"
     ]
    }
   ],
   "source": [
    "## Arithmethic Operation\n",
    "\n",
    "a = 10\n",
    "b = 2\n",
    "\n",
    "add_result = a + b           ## addiiton\n",
    "sub_result = a - b           ##substraction \n",
    "mult_result = a * b          ## multiplication\n",
    "div_result = a / b           ## division\n",
    "floor_div_result = a // b    ## floor division\n",
    "exponent_result= a ** b      ## Exponentiation\n",
    "modulus_result = a % b       ## modulus operation\n",
    "\n",
    "\n",
    "print(add_result)\n",
    "print(sub_result)\n",
    "print(mult_result)\n",
    "print(div_result)\n",
    "print(floor_div_result)\n",
    "print(modulus_result)\n",
    "print(exponent_result)"
   ]
  },
  {
   "cell_type": "code",
   "execution_count": null,
   "id": "0901b6f4",
   "metadata": {},
   "outputs": [
    {
     "name": "stdout",
     "output_type": "stream",
     "text": [
      "12 8 20 5.0 5 0 100\n"
     ]
    }
   ],
   "source": [
    "## One line print statement\n",
    "## all results separated by spaces  \n",
    "print(add_result, sub_result, mult_result, div_result, floor_div_result, modulus_result, exponent_result)"
   ]
  },
  {
   "cell_type": "code",
   "execution_count": null,
   "id": "de0b253f",
   "metadata": {},
   "outputs": [],
   "source": []
  }
 ],
 "metadata": {
  "kernelspec": {
   "display_name": "Python 3",
   "language": "python",
   "name": "python3"
  },
  "language_info": {
   "codemirror_mode": {
    "name": "ipython",
    "version": 3
   },
   "file_extension": ".py",
   "mimetype": "text/x-python",
   "name": "python",
   "nbconvert_exporter": "python",
   "pygments_lexer": "ipython3",
   "version": "3.10.18"
  }
 },
 "nbformat": 4,
 "nbformat_minor": 5
}
