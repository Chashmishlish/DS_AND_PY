{
 "cells": [
  {
   "cell_type": "markdown",
   "id": "06a2f9d7",
   "metadata": {},
   "source": [
    "#### Variables\n",
    "Variables are fundamental elements in programming used to store data that can be referenced and manipulated in a program. In Python, variables are created when you assign a value to them, and they do not need explicit declaration to reserve memory space. The declaration happens automatically when you assign a value to a variable.\n",
    "\n",
    "- Introduction to Variables\n",
    "- Declaring and Assigning Variables\n",
    "- Naming Conventions\n",
    "- Understanding Variable Types\n",
    "- Type Checking and Conversion\n",
    "- Dynamic Typing\n",
    "- Practical Examples and Common Errors"
   ]
  },
  {
   "cell_type": "code",
   "execution_count": 1,
   "id": "5708e565",
   "metadata": {},
   "outputs": [],
   "source": [
    "a = 100"
   ]
  },
  {
   "cell_type": "code",
   "execution_count": 5,
   "id": "579d7d19",
   "metadata": {},
   "outputs": [
    {
     "name": "stdout",
     "output_type": "stream",
     "text": [
      "Name: Alishba Khan\n",
      "Age : 19\n",
      "Height: 5.6\n"
     ]
    }
   ],
   "source": [
    "## Declaring And Assigning Variables\n",
    "\n",
    "age = 19\n",
    "height = 5.6\n",
    "name = \"Alishba Khan\"\n",
    "is_student = True\n",
    "\n",
    "## Prinitng the variables\n",
    "\n",
    "print(\"Name:\",name)\n",
    "print(\"Age :\",age)\n",
    "print(\"Height:\",height)\n"
   ]
  },
  {
   "cell_type": "code",
   "execution_count": 6,
   "id": "4377d80d",
   "metadata": {},
   "outputs": [],
   "source": [
    "## Naming Conventions\n",
    "## Variable names should be descriptive\n",
    "## They must start with a letter or an '_' and contains letter,numbers and underscores\n",
    "## variables names case sensitive\n",
    "\n",
    "#valid variable names\n",
    "\n",
    "first_name=\"Alishba\"\n",
    "last_name=\"Khan\""
   ]
  },
  {
   "cell_type": "code",
   "execution_count": null,
   "id": "be77c049",
   "metadata": {},
   "outputs": [],
   "source": [
    "# Invalid variable names\n",
    "#2age=30\n",
    "#first-name=\"Asha\"\n",
    "##@name=\"Pasha\""
   ]
  },
  {
   "cell_type": "code",
   "execution_count": 8,
   "id": "16b052b7",
   "metadata": {},
   "outputs": [],
   "source": [
    "## case sensitivity\n",
    "name=\"Alish\"\n",
    "Name=\"khan\""
   ]
  },
  {
   "cell_type": "code",
   "execution_count": 9,
   "id": "9672a993",
   "metadata": {},
   "outputs": [
    {
     "name": "stdout",
     "output_type": "stream",
     "text": [
      "<class 'str'>\n"
     ]
    }
   ],
   "source": [
    "## Understnading Variable types\n",
    "## Python is dynamically typed, type of a variable is determined at runtime\n",
    "age = 20          #int\n",
    "height = 6.1      #float\n",
    "name = \"Alishba\"  #str\n",
    "is_student = True #bool\n",
    "\n",
    "print(type(name))"
   ]
  },
  {
   "cell_type": "code",
   "execution_count": 10,
   "id": "2a187e9b",
   "metadata": {},
   "outputs": [
    {
     "data": {
      "text/plain": [
       "float"
      ]
     },
     "execution_count": 10,
     "metadata": {},
     "output_type": "execute_result"
    }
   ],
   "source": [
    "## Type Checking and Conversion\n",
    "\n",
    "type(height)"
   ]
  },
  {
   "cell_type": "code",
   "execution_count": 11,
   "id": "c0c3f8f7",
   "metadata": {},
   "outputs": [
    {
     "name": "stdout",
     "output_type": "stream",
     "text": [
      "<class 'int'>\n",
      "19\n",
      "<class 'str'>\n"
     ]
    }
   ],
   "source": [
    "age=19\n",
    "print (type(age))\n",
    "\n",
    "# Type conversion\n",
    "age_str=str(age)\n",
    "\n",
    "print (age_str)\n",
    "print (type (age_str))"
   ]
  },
  {
   "cell_type": "code",
   "execution_count": 12,
   "id": "65e30781",
   "metadata": {},
   "outputs": [
    {
     "name": "stdout",
     "output_type": "stream",
     "text": [
      "<class 'int'>\n"
     ]
    }
   ],
   "source": [
    "age='25'\n",
    "print (type(int(age)))"
   ]
  },
  {
   "cell_type": "code",
   "execution_count": null,
   "id": "dd976296",
   "metadata": {},
   "outputs": [
    {
     "ename": "ValueError",
     "evalue": "invalid literal for int() with base 10: 'Alishba'",
     "output_type": "error",
     "traceback": [
      "\u001b[1;31m---------------------------------------------------------------------------\u001b[0m",
      "\u001b[1;31mValueError\u001b[0m                                Traceback (most recent call last)",
      "Cell \u001b[1;32mIn[13], line 2\u001b[0m\n\u001b[0;32m      1\u001b[0m name \u001b[38;5;241m=\u001b[39m \u001b[38;5;124m\"\u001b[39m\u001b[38;5;124mAlishba\u001b[39m\u001b[38;5;124m\"\u001b[39m\n\u001b[1;32m----> 2\u001b[0m \u001b[38;5;28;43mint\u001b[39;49m\u001b[43m(\u001b[49m\u001b[43mname\u001b[49m\u001b[43m)\u001b[49m\n",
      "\u001b[1;31mValueError\u001b[0m: invalid literal for int() with base 10: 'Alishba'"
     ]
    }
   ],
   "source": [
    "name = \"Alishba\"\n",
    "int(name)   #ValueError"
   ]
  },
  {
   "cell_type": "code",
   "execution_count": 14,
   "id": "83701bbd",
   "metadata": {},
   "outputs": [
    {
     "data": {
      "text/plain": [
       "float"
      ]
     },
     "execution_count": 14,
     "metadata": {},
     "output_type": "execute_result"
    }
   ],
   "source": [
    "\n",
    "height = 5.11\n",
    "type (height)"
   ]
  },
  {
   "cell_type": "code",
   "execution_count": 15,
   "id": "3eba6621",
   "metadata": {},
   "outputs": [
    {
     "data": {
      "text/plain": [
       "5.0"
      ]
     },
     "execution_count": 15,
     "metadata": {},
     "output_type": "execute_result"
    }
   ],
   "source": [
    "float (int (height))"
   ]
  },
  {
   "cell_type": "code",
   "execution_count": 16,
   "id": "97d4bc3f",
   "metadata": {},
   "outputs": [
    {
     "name": "stdout",
     "output_type": "stream",
     "text": [
      "10 <class 'int'>\n",
      "Hello <class 'str'>\n",
      "3.14 <class 'float'>\n"
     ]
    }
   ],
   "source": [
    "## Dynamic Typing\n",
    "## Python allows the type of a vraible to change as the program executes\n",
    "\n",
    "var = 10    #int\n",
    "print (var,type(var))\n",
    "\n",
    "var = \"Hello\"\n",
    "print (var,type(var))\n",
    "\n",
    "var = 3.14\n",
    "print (var,type(var))"
   ]
  },
  {
   "cell_type": "code",
   "execution_count": 24,
   "id": "ceaa131a",
   "metadata": {},
   "outputs": [
    {
     "name": "stdout",
     "output_type": "stream",
     "text": [
      "19 <class 'int'>\n"
     ]
    }
   ],
   "source": [
    "## input\n",
    "\n",
    "age=int(input(\"What is the age\"))\n",
    "print(age,type(age))"
   ]
  },
  {
   "cell_type": "code",
   "execution_count": 26,
   "id": "4207ca3e",
   "metadata": {},
   "outputs": [
    {
     "name": "stdout",
     "output_type": "stream",
     "text": [
      "Sum: 6.0\n",
      "Difference: -2.0\n",
      "Product: 8.0\n",
      "Quotient: 0.5\n"
     ]
    }
   ],
   "source": [
    "### Simple calculator\n",
    "num1 = float(input(\"Enter first number: \"))\n",
    "num2 = float(input(\"Enter second number: \"))\n",
    "\n",
    "sum = num1 + num2\n",
    "difference = num1 - num2\n",
    "product = num1 * num2\n",
    "quotient = num1 / num2\n",
    "\n",
    "print(\"Sum:\", sum)\n",
    "print(\"Difference:\", difference)\n",
    "print(\"Product:\", product)\n",
    "print(\"Quotient:\", quotient)"
   ]
  },
  {
   "cell_type": "markdown",
   "id": "3e650038",
   "metadata": {},
   "source": [
    "#### Conclusion\n",
    "Variables are essential in Python programming for storing and manipulating data. Understanding how to declare, assign, and use variables effectively is crucial for writing functional and efficient code. Following proper naming conventions and understanding variable types will help in maintaining readability and consistency in your code."
   ]
  }
 ],
 "metadata": {
  "kernelspec": {
   "display_name": "venv",
   "language": "python",
   "name": "python3"
  },
  "language_info": {
   "codemirror_mode": {
    "name": "ipython",
    "version": 3
   },
   "file_extension": ".py",
   "mimetype": "text/x-python",
   "name": "python",
   "nbconvert_exporter": "python",
   "pygments_lexer": "ipython3",
   "version": "3.10.18"
  }
 },
 "nbformat": 4,
 "nbformat_minor": 5
}
