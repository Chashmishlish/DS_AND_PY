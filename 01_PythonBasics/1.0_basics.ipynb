{
 "cells": [
  {
   "cell_type": "markdown",
   "id": "fa0216ad",
   "metadata": {},
   "source": [
    "#### Syntax and Semantics in Python\n",
    "###### Syntax refers to the set of rules that defines the combinations of symbols that are considered to be correctly structured programs in a language. In simpler terms, syntax is about the correct arrangement of words and symbols in a code.\n",
    "\n",
    "###### Semantics refers to the meaning or the interpretation of the symbols, characters, and commands in a language. It is about what the code is supposed to do when it runs."
   ]
  },
  {
   "cell_type": "code",
   "execution_count": null,
   "id": "642fda52",
   "metadata": {},
   "outputs": [
    {
     "name": "stdout",
     "output_type": "stream",
     "text": [
      "Krish\n",
      "Naik\n"
     ]
    }
   ],
   "source": [
    "## Basic Syntax Rules In Python\n",
    "## Case sensitivity- Python is case sensitive\n",
    "\n",
    "name=\"Alish\"\n",
    "Name=\"Khan\"\n",
    "\n",
    "print(name)\n",
    "print(Name)"
   ]
  },
  {
   "cell_type": "markdown",
   "id": "609477fe",
   "metadata": {},
   "source": [
    "#### Indentation\n",
    "###### Indentation in Python is used to define the structure and hierarchy of the code. Unlike many other programming languages that use braces {} to delimit blocks of code, Python uses indentation to determine the grouping of statements. This means that all the statements within a block must be indented at the same level."
   ]
  },
  {
   "cell_type": "code",
   "execution_count": null,
   "id": "1077db01",
   "metadata": {},
   "outputs": [
    {
     "name": "stdout",
     "output_type": "stream",
     "text": [
      "32\n",
      "32\n"
     ]
    }
   ],
   "source": [
    "## Indentation\n",
    "## Python uses indentation to define blocks of code. Consistent use of spaces (commonly 4) or a tab is required.\n",
    "\n",
    "age=32\n",
    "if age>30:\n",
    "    \n",
    "    print(age)\n",
    "    \n",
    "print(age)"
   ]
  },
  {
   "cell_type": "code",
   "execution_count": null,
   "id": "e6d956e0",
   "metadata": {},
   "outputs": [],
   "source": []
  }
 ],
 "metadata": {
  "kernelspec": {
   "display_name": "venv",
   "language": "python",
   "name": "python3"
  },
  "language_info": {
   "codemirror_mode": {
    "name": "ipython",
    "version": 3
   },
   "file_extension": ".py",
   "mimetype": "text/x-python",
   "name": "python",
   "nbconvert_exporter": "python",
   "pygments_lexer": "ipython3",
   "version": "3.10.18"
  }
 },
 "nbformat": 4,
 "nbformat_minor": 5
}
