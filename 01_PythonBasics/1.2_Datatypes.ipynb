{
 "cells": [
  {
   "cell_type": "markdown",
   "id": "8da5fc53",
   "metadata": {},
   "source": [
    "#### DataTypes\n",
    "1. Definition:\n",
    "Data types are a classification of data which tell the compiler or interpreter how the programmer intends to use the data.\n",
    "They determine the type of operations that can be performed on the data, the values that the data can take, and the amount of memory needed to store the data.\n",
    "2. Importance of Data Types in Programming\n",
    "\n",
    "Explanation:\n",
    "- Data types ensure that data is stored in an efficient way.\n",
    "- They help in performing correct operations on data.\n",
    "- Proper use of data types can prevent errors and bugs in the program.\n",
    "\n",
    "Outline:\n",
    "1. Introduction to Data Types\n",
    "2. Importance of Data Types in Programming\n",
    "3. Basic Data Types\n",
    "- Integers\n",
    "- Floating-point numbers\n",
    "- Strings\n",
    "- Booleans\n",
    "4. Advanced Data Types\n",
    "- Lists\n",
    "- Tuples\n",
    "- Sets\n",
    "- Dictionaries\n",
    "5. Type Conversion\n",
    "6. Practical Examples"
   ]
  },
  {
   "cell_type": "code",
   "execution_count": 1,
   "id": "b0bc86bf",
   "metadata": {},
   "outputs": [
    {
     "data": {
      "text/plain": [
       "int"
      ]
     },
     "execution_count": 1,
     "metadata": {},
     "output_type": "execute_result"
    }
   ],
   "source": [
    "## Integer Example\n",
    "age = 12\n",
    "type (age)"
   ]
  },
  {
   "cell_type": "code",
   "execution_count": null,
   "id": "b21b5a6e",
   "metadata": {},
   "outputs": [
    {
     "name": "stdout",
     "output_type": "stream",
     "text": [
      "3500.23\n",
      "<class 'float'>\n"
     ]
    }
   ],
   "source": [
    "#Floating point datatype Example\n",
    "balance = 3500.23\n",
    "print(balance)\n",
    "print(type(balance))"
   ]
  },
  {
   "cell_type": "code",
   "execution_count": 6,
   "id": "b79280ff",
   "metadata": {},
   "outputs": [
    {
     "name": "stdout",
     "output_type": "stream",
     "text": [
      "Alish\n",
      "<class 'str'>\n",
      "Alish khan\n"
     ]
    }
   ],
   "source": [
    "## String Datatyoe Example\n",
    "Name = \"Alish\" \n",
    "print(Name)\n",
    "print(type(Name))\n",
    "\n",
    "name = \"khan\"\n",
    "print(Name + \" \" + name)\n"
   ]
  },
  {
   "cell_type": "code",
   "execution_count": null,
   "id": "bdfb31be",
   "metadata": {},
   "outputs": [
    {
     "data": {
      "text/plain": [
       "bool"
      ]
     },
     "execution_count": 13,
     "metadata": {},
     "output_type": "execute_result"
    }
   ],
   "source": [
    "## Boolean Datatype Examples\n",
    "isTrue = True\n",
    "type(isTrue)"
   ]
  },
  {
   "cell_type": "code",
   "execution_count": 14,
   "id": "a4ce1d15",
   "metadata": {},
   "outputs": [
    {
     "data": {
      "text/plain": [
       "False"
      ]
     },
     "execution_count": 14,
     "metadata": {},
     "output_type": "execute_result"
    }
   ],
   "source": [
    "#Another way\n",
    "isTrue = bool ()\n",
    "isTrue"
   ]
  },
  {
   "cell_type": "code",
   "execution_count": null,
   "id": "c2a86d11",
   "metadata": {},
   "outputs": [
    {
     "data": {
      "text/plain": [
       "False"
      ]
     },
     "execution_count": 15,
     "metadata": {},
     "output_type": "execute_result"
    }
   ],
   "source": [
    "bool()  #by default it is false"
   ]
  },
  {
   "cell_type": "code",
   "execution_count": 18,
   "id": "d9d250a5",
   "metadata": {},
   "outputs": [
    {
     "data": {
      "text/plain": [
       "True"
      ]
     },
     "execution_count": 18,
     "metadata": {},
     "output_type": "execute_result"
    }
   ],
   "source": [
    "a = 10\n",
    "b = 10\n",
    "\n",
    "a == b  #true\n"
   ]
  },
  {
   "cell_type": "code",
   "execution_count": 19,
   "id": "fc28a1b4",
   "metadata": {},
   "outputs": [
    {
     "data": {
      "text/plain": [
       "bool"
      ]
     },
     "execution_count": 19,
     "metadata": {},
     "output_type": "execute_result"
    }
   ],
   "source": [
    "type(a == b)  #bool"
   ]
  },
  {
   "cell_type": "code",
   "execution_count": null,
   "id": "1f73bc0a",
   "metadata": {},
   "outputs": [],
   "source": []
  }
 ],
 "metadata": {
  "kernelspec": {
   "display_name": "Python 3",
   "language": "python",
   "name": "python3"
  },
  "language_info": {
   "codemirror_mode": {
    "name": "ipython",
    "version": 3
   },
   "file_extension": ".py",
   "mimetype": "text/x-python",
   "name": "python",
   "nbconvert_exporter": "python",
   "pygments_lexer": "ipython3",
   "version": "3.10.18"
  }
 },
 "nbformat": 4,
 "nbformat_minor": 5
}
