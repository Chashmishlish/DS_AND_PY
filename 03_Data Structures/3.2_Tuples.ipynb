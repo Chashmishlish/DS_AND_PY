{
 "cells": [
  {
   "cell_type": "markdown",
   "id": "576273d6",
   "metadata": {},
   "source": [
    "####  Tuples\n",
    "Introduction to Tuples\n",
    "Creating Tuples\n",
    "Accessing Tuple Elements\n",
    "Tuple Operations\n",
    "Immutable Nature of Tuples\n",
    "Tuple Methods\n",
    "Packing and Unpacking Tuples\n",
    "Nested Tuples\n",
    "Practical Examples and Common Errors\n",
    "\n",
    "\n",
    "##### Introduction to Tuples\n",
    "Explanation:\n",
    "Tuples are ordered collections of items that are immutable. They are similar to lists, but their immutability makes them different."
   ]
  },
  {
   "cell_type": "code",
   "execution_count": 1,
   "id": "9113cc2f",
   "metadata": {},
   "outputs": [
    {
     "name": "stdout",
     "output_type": "stream",
     "text": [
      "()\n",
      "<class 'tuple'>\n"
     ]
    }
   ],
   "source": [
    "## creating a tuple\n",
    "\n",
    "empty_tuple = ()\n",
    "print(empty_tuple)\n",
    "print(type(empty_tuple))"
   ]
  },
  {
   "cell_type": "code",
   "execution_count": 2,
   "id": "ba60e55a",
   "metadata": {},
   "outputs": [
    {
     "name": "stdout",
     "output_type": "stream",
     "text": [
      "<class 'list'>\n",
      "<class 'tuple'>\n"
     ]
    }
   ],
   "source": [
    "\n",
    "lst = list()\n",
    "print(type(lst))\n",
    "\n",
    "tpl = tuple()\n",
    "print(type(tpl))"
   ]
  },
  {
   "cell_type": "code",
   "execution_count": 3,
   "metadata": {},
   "outputs": [
    {
     "data": {
      "text/plain": [
       "(1, 2, 3, 4, 5, 6, 7, 8)"
      ]
     },
     "execution_count": 3,
     "metadata": {},
     "output_type": "execute_result"
    }
   ],
   "source": [
    "number = tuple ([ 1, 2, 3, 4, 5, 6, 7, 8 ])\n",
    "number"
   ]
  },
  {
   "cell_type": "code",
   "execution_count": null,
   "id": "f858fe34",
   "metadata": {},
   "outputs": [],
   "source": [
    "# A list can be converted into a tuple, even a tuple can be converted into a list"
   ]
  },
  {
   "cell_type": "code",
   "execution_count": null,
   "id": "5764c35b",
   "metadata": {},
   "outputs": [
    {
     "data": {
      "text/plain": [
       "[1, 2, 3, 4, 5, 6]"
      ]
     },
     "execution_count": 4,
     "metadata": {},
     "output_type": "execute_result"
    }
   ],
   "source": [
    "list((1,2,3,4,5,6))\n"
   ]
  },
  {
   "cell_type": "code",
   "execution_count": null,
   "metadata": {},
   "outputs": [
    {
     "name": "stdout",
     "output_type": "stream",
     "text": [
      "(1, 'Hello lish', 3.14, True)\n"
     ]
    }
   ],
   "source": [
    "mixed_tuple = (1,\"Hello lish\" , 3.14 , True)\n",
    "print(mixed_tuple)"
   ]
  },
  {
   "cell_type": "code",
   "execution_count": 6,
   "id": "81e8549b",
   "metadata": {},
   "outputs": [
    {
     "name": "stdout",
     "output_type": "stream",
     "text": [
      "[(1, 'Hello lish', 3.14, True)]\n"
     ]
    }
   ],
   "source": [
    "mixed_tuple = [(1,\"Hello lish\" , 3.14 , True)]\n",
    "print(mixed_tuple)"
   ]
  },
  {
   "cell_type": "code",
   "execution_count": 7,
   "id": "b7817616",
   "metadata": {},
   "outputs": [
    {
     "name": "stdout",
     "output_type": "stream",
     "text": [
      "list[1, 'Hello lish', 3.14, True]\n"
     ]
    }
   ],
   "source": [
    "mixed_tuple = list [(1,\"Hello lish\" , 3.14 , True)]\n",
    "print(mixed_tuple)"
   ]
  },
  {
   "cell_type": "code",
   "execution_count": 8,
   "id": "65e223aa",
   "metadata": {},
   "outputs": [
    {
     "name": "stdout",
     "output_type": "stream",
     "text": [
      "[1, 'Hello lish', 3.14, True]\n"
     ]
    }
   ],
   "source": [
    "mixed_tuple = list ((1,\"Hello lish\" , 3.14 , True))\n",
    "print(mixed_tuple)"
   ]
  },
  {
   "cell_type": "code",
   "execution_count": 9,
   "id": "eb6143be",
   "metadata": {},
   "outputs": [
    {
     "data": {
      "text/plain": [
       "(1, 2, 3, 4, 5, 6, 7, 8)"
      ]
     },
     "execution_count": 9,
     "metadata": {},
     "output_type": "execute_result"
    }
   ],
   "source": [
    "## Accessing Tuple Elements\n",
    "\n",
    "number"
   ]
  },
  {
   "cell_type": "code",
   "execution_count": 11,
   "id": "857a78c9",
   "metadata": {},
   "outputs": [
    {
     "name": "stdout",
     "output_type": "stream",
     "text": [
      "3\n",
      "8\n",
      "7\n"
     ]
    }
   ],
   "source": [
    "print  (number[2])\n",
    "print  (number[-1])\n",
    "print  (number[-2])"
   ]
  },
  {
   "cell_type": "code",
   "execution_count": 12,
   "id": "b9c25639",
   "metadata": {},
   "outputs": [
    {
     "data": {
      "text/plain": [
       "(1, 2, 3, 4)"
      ]
     },
     "execution_count": 12,
     "metadata": {},
     "output_type": "execute_result"
    }
   ],
   "source": [
    "number [0:4]  #slicing method"
   ]
  },
  {
   "cell_type": "code",
   "execution_count": 13,
   "id": "1e137489",
   "metadata": {},
   "outputs": [
    {
     "data": {
      "text/plain": [
       "(1, 2, 3, 4, 5, 6, 7, 8)"
      ]
     },
     "execution_count": 13,
     "metadata": {},
     "output_type": "execute_result"
    }
   ],
   "source": [
    "number [::]"
   ]
  },
  {
   "cell_type": "code",
   "execution_count": 14,
   "id": "5afaf3ab",
   "metadata": {},
   "outputs": [
    {
     "data": {
      "text/plain": [
       "(8, 7, 6, 5, 4, 3, 2, 1)"
      ]
     },
     "execution_count": 14,
     "metadata": {},
     "output_type": "execute_result"
    }
   ],
   "source": [
    "number [::-1]  #reverse\n"
   ]
  },
  {
   "cell_type": "code",
   "execution_count": 15,
   "id": "e6dcefb9",
   "metadata": {},
   "outputs": [
    {
     "name": "stdout",
     "output_type": "stream",
     "text": [
      "<class 'tuple'>\n"
     ]
    }
   ],
   "source": [
    "print (type(number))"
   ]
  },
  {
   "cell_type": "code",
   "execution_count": 18,
   "id": "debd8117",
   "metadata": {},
   "outputs": [
    {
     "name": "stdout",
     "output_type": "stream",
     "text": [
      "(1, 2, 3, 4, 5, 6, 7, 8, 1, 'Hello lish', 3.14, True)\n"
     ]
    }
   ],
   "source": [
    "## Tuple Operations\n",
    "\n",
    "number = tuple ([ 1, 2, 3, 4, 5, 6, 7, 8 ])\n",
    "mixed_tuple = (1,\"Hello lish\" , 3.14 , True)\n",
    "\n",
    "concatenation_tuple = number + mixed_tuple\n",
    "print(concatenation_tuple)"
   ]
  },
  {
   "cell_type": "code",
   "execution_count": null,
   "id": "062625f4",
   "metadata": {},
   "outputs": [
    {
     "data": {
      "text/plain": [
       "(1,\n",
       " 'Hello lish',\n",
       " 3.14,\n",
       " True,\n",
       " 1,\n",
       " 'Hello lish',\n",
       " 3.14,\n",
       " True,\n",
       " 1,\n",
       " 'Hello lish',\n",
       " 3.14,\n",
       " True)"
      ]
     },
     "execution_count": 19,
     "metadata": {},
     "output_type": "execute_result"
    }
   ],
   "source": [
    "mixed_tuple * 3 "
   ]
  },
  {
   "cell_type": "code",
   "execution_count": 21,
   "id": "7558c121",
   "metadata": {},
   "outputs": [
    {
     "data": {
      "text/plain": [
       "(1, 2, 3, 4, 5, 6, 7, 8, 1, 2, 3, 4, 5, 6, 7, 8, 1, 2, 3, 4, 5, 6, 7, 8)"
      ]
     },
     "execution_count": 21,
     "metadata": {},
     "output_type": "execute_result"
    }
   ],
   "source": [
    "number * 3"
   ]
  },
  {
   "cell_type": "code",
   "execution_count": 23,
   "id": "05f6c947",
   "metadata": {},
   "outputs": [],
   "source": [
    "## Immutable Nature Of Tuples\n",
    "## Tuples are immutable, meaning their elements cannot be changed once assigned.\n",
    "\n"
   ]
  },
  {
   "cell_type": "code",
   "execution_count": null,
   "id": "3fca48af",
   "metadata": {},
   "outputs": [
    {
     "name": "stdout",
     "output_type": "stream",
     "text": [
      "[1, 2, 3, 4, 5]\n",
      "[1, 'Alish', 3, 4, 5]\n"
     ]
    }
   ],
   "source": [
    "lst = [1,2,3,4,5]\n",
    "print(lst)\n",
    "\n",
    "lst[1] = \"Alish\"\n",
    "print(lst)   \n",
    "\n",
    "# list are mutable, elements can be changed once assigned \n",
    "# at index 1, we can see 2 is replaced by Alish"
   ]
  },
  {
   "cell_type": "code",
   "execution_count": null,
   "metadata": {},
   "outputs": [
    {
     "data": {
      "text/plain": [
       "(1, 2, 3, 4, 5, 6, 7, 8)"
      ]
     },
     "execution_count": 25,
     "metadata": {},
     "output_type": "execute_result"
    }
   ],
   "source": [
    "number"
   ]
  },
  {
   "cell_type": "code",
   "execution_count": 26,
   "id": "c10c8d7d",
   "metadata": {},
   "outputs": [
    {
     "ename": "TypeError",
     "evalue": "'tuple' object does not support item assignment",
     "output_type": "error",
     "traceback": [
      "\u001b[1;31m---------------------------------------------------------------------------\u001b[0m",
      "\u001b[1;31mTypeError\u001b[0m                                 Traceback (most recent call last)",
      "Cell \u001b[1;32mIn[26], line 1\u001b[0m\n\u001b[1;32m----> 1\u001b[0m \u001b[43mnumber\u001b[49m\u001b[43m \u001b[49m\u001b[43m[\u001b[49m\u001b[38;5;241;43m1\u001b[39;49m\u001b[43m]\u001b[49m \u001b[38;5;241m=\u001b[39m \u001b[38;5;124m\"\u001b[39m\u001b[38;5;124mAlish\u001b[39m\u001b[38;5;124m\"\u001b[39m\n",
      "\u001b[1;31mTypeError\u001b[0m: 'tuple' object does not support item assignment"
     ]
    }
   ],
   "source": [
    "number [1] = \"Alish\""
   ]
  },
  {
   "cell_type": "code",
   "execution_count": 28,
   "id": "8068fe9a",
   "metadata": {},
   "outputs": [
    {
     "data": {
      "text/plain": [
       "tuple"
      ]
     },
     "execution_count": 28,
     "metadata": {},
     "output_type": "execute_result"
    }
   ],
   "source": [
    "type(number) \n",
    "# they are immutable , that's how immutability comes into picture"
   ]
  },
  {
   "cell_type": "code",
   "execution_count": 31,
   "id": "06e93f9b",
   "metadata": {},
   "outputs": [],
   "source": [
    "numbers = tuple([ 1, 2, 3, 4, 5, 6, 1, 1, 1])"
   ]
  },
  {
   "cell_type": "code",
   "execution_count": 38,
   "id": "7dda51c1",
   "metadata": {},
   "outputs": [
    {
     "name": "stdout",
     "output_type": "stream",
     "text": [
      "4\n",
      "1\n",
      "2\n",
      "0\n"
     ]
    }
   ],
   "source": [
    "## Tuple Methods - .count , .index\n",
    "\n",
    "print (numbers.count(1)) #4 times 1\n",
    "print (numbers.count(2)) #1 times 2\n",
    "\n",
    "print (numbers.index(3)) # it determines at which index 3rd element is present\n",
    "print (numbers.index(1))"
   ]
  },
  {
   "cell_type": "code",
   "execution_count": null,
   "id": "ed8233da",
   "metadata": {},
   "outputs": [
    {
     "name": "stdout",
     "output_type": "stream",
     "text": [
      "[0, 6, 7, 8]\n"
     ]
    }
   ],
   "source": [
    "## access all the 1's index\n",
    "\n",
    "indices = [i for i in range(len(numbers)) if numbers[i] == 1]\n",
    "print(indices) "
   ]
  },
  {
   "cell_type": "code",
   "execution_count": 40,
   "id": "a9ed05b8",
   "metadata": {},
   "outputs": [
    {
     "name": "stdout",
     "output_type": "stream",
     "text": [
      "(1, 'Hello', 3.14)\n"
     ]
    }
   ],
   "source": [
    "## Packing and Unpacking tuple\n",
    "## packing\n",
    "\n",
    "packed_tuple = 1 ,\"Hello\" ,3.14\n",
    "print(packed_tuple)"
   ]
  },
  {
   "cell_type": "code",
   "execution_count": 41,
   "metadata": {},
   "outputs": [],
   "source": [
    "## whatever number or element that i have given it is going to pack them in a tuple itself\n",
    "## so that's a reason we say it as we are packing a tuple wherever we give this"
   ]
  },
  {
   "cell_type": "code",
   "execution_count": 42,
   "id": "5c6c8e18",
   "metadata": {},
   "outputs": [
    {
     "name": "stdout",
     "output_type": "stream",
     "text": [
      "1\n",
      "Hello\n",
      "3.14\n"
     ]
    }
   ],
   "source": [
    "##unpacking a tuple\n",
    "## create 3 variables for packet_tuple\n",
    "a, b, c = packed_tuple\n",
    "\n",
    "print(a)\n",
    "print(b)\n",
    "print(c)"
   ]
  },
  {
   "cell_type": "code",
   "execution_count": 67,
   "id": "ac7bb10f",
   "metadata": {},
   "outputs": [
    {
     "data": {
      "text/plain": [
       "(1, 2, 3, 4, 5, 6, 7, 8)"
      ]
     },
     "execution_count": 67,
     "metadata": {},
     "output_type": "execute_result"
    }
   ],
   "source": [
    "number = tuple ([ 1, 2, 3, 4, 5, 6, 7, 8 ])\n",
    "\n",
    "number "
   ]
  },
  {
   "cell_type": "code",
   "execution_count": 69,
   "id": "0917a18b",
   "metadata": {},
   "outputs": [
    {
     "name": "stdout",
     "output_type": "stream",
     "text": [
      "1\n",
      "8\n"
     ]
    }
   ],
   "source": [
    "a,b,c,d,e,f,g,h = number\n",
    "print(a)\n",
    "print(h)"
   ]
  },
  {
   "cell_type": "code",
   "execution_count": null,
   "id": "f10d1900",
   "metadata": {},
   "outputs": [
    {
     "name": "stdout",
     "output_type": "stream",
     "text": [
      "1\n",
      "[2, 3, 4]\n",
      "5\n"
     ]
    }
   ],
   "source": [
    "## unpacking with * \n",
    "num = ( 1,2,3,4,5 )\n",
    "first, *middle, last = num\n",
    "print(first)\n",
    "print(middle)\n",
    "print(last)"
   ]
  },
  {
   "cell_type": "code",
   "execution_count": null,
   "metadata": {},
   "outputs": [
    {
     "data": {
      "text/plain": [
       "[1, 2, 3, 4]"
      ]
     },
     "execution_count": 71,
     "metadata": {},
     "output_type": "execute_result"
    }
   ],
   "source": [
    "## Nested Tuple and Nested List\n",
    "## N-List\n",
    "\n",
    "lst = [[1,2,3,4],[6,7,8,9],[1,\"Hello\",9.0,\"h\"]]\n",
    "lst[0]"
   ]
  },
  {
   "cell_type": "code",
   "execution_count": 75,
   "id": "f9d00c15",
   "metadata": {},
   "outputs": [
    {
     "data": {
      "text/plain": [
       "[1, 2, 3]"
      ]
     },
     "execution_count": 75,
     "metadata": {},
     "output_type": "execute_result"
    }
   ],
   "source": [
    "lst = [[1,2,3,4],[6,7,8,9],[1,\"Hello\",9.0,\"h\"]]\n",
    "lst[0][0:3]\n",
    "lst[0][0:3]"
   ]
  },
  {
   "cell_type": "code",
   "execution_count": null,
   "id": "1312e46d",
   "metadata": {},
   "outputs": [
    {
     "data": {
      "text/plain": [
       "(1, 'Hello', 3.14, 'c')"
      ]
     },
     "execution_count": 79,
     "metadata": {},
     "output_type": "execute_result"
    }
   ],
   "source": [
    "lst = [[1,2,3,4],[6,7,8,9],(1,\"Hello\",3.14,\"c\")]\n",
    "lst[2][0:4]"
   ]
  },
  {
   "cell_type": "code",
   "execution_count": 81,
   "id": "96b8b4c7",
   "metadata": {},
   "outputs": [
    {
     "ename": "SyntaxError",
     "evalue": "closing parenthesis ']' does not match opening parenthesis '(' (3829050376.py, line 1)",
     "output_type": "error",
     "traceback": [
      "\u001b[1;36m  Cell \u001b[1;32mIn[81], line 1\u001b[1;36m\u001b[0m\n\u001b[1;33m    lst = [(1,2,3,4],[6,7,8,9],(1,\"Hello\",3.14,\"c\")]\u001b[0m\n\u001b[1;37m                   ^\u001b[0m\n\u001b[1;31mSyntaxError\u001b[0m\u001b[1;31m:\u001b[0m closing parenthesis ']' does not match opening parenthesis '('\n"
     ]
    }
   ],
   "source": [
    "lst = [(1,2,3,4],[6,7,8,9],(1,\"Hello\",3.14,\"c\")]\n",
    "lst[2][0:4]"
   ]
  },
  {
   "cell_type": "code",
   "execution_count": 83,
   "id": "6448eb94",
   "metadata": {},
   "outputs": [
    {
     "name": "stdout",
     "output_type": "stream",
     "text": [
      "(1, 2, 3)\n",
      "c\n",
      "False\n"
     ]
    }
   ],
   "source": [
    "## Nested_tuple\n",
    "nested_tuple = ((1, 2, 3), (\"a\", \"b\", \"c\"), (True, False))\n",
    "\n",
    "## access the elements inside a tuple\n",
    "print(nested_tuple[0])\n",
    "print(nested_tuple[1][2]) #only want to pick c, from [1] index [2] where c lies\n",
    "print(nested_tuple[2][1])"
   ]
  },
  {
   "cell_type": "code",
   "execution_count": 84,
   "id": "fd33225a",
   "metadata": {},
   "outputs": [
    {
     "name": "stdout",
     "output_type": "stream",
     "text": [
      "1 2 3 \n",
      "a b c \n",
      "True False \n"
     ]
    }
   ],
   "source": [
    "## iterating over nested tuples\n",
    "\n",
    "for sub_tuple in nested_tuple:\n",
    "    for item in sub_tuple:\n",
    "        print(item, end = \" \" )\n",
    "    print()"
   ]
  },
  {
   "cell_type": "markdown",
   "id": "d8b581b1",
   "metadata": {},
   "source": [
    "#### Conclusion\n",
    "Tuples are versatile and useful in many real-world scenarios where an immutable and ordered collection of items is required. They are commonly used in data structures, function arguments and return values, and as dictionary keys. Understanding how to leverage tuples effectively can improve the efficiency and readability of your Python code."
   ]
  },
  {
   "cell_type": "code",
   "execution_count": 85,
   "id": "54f1ce36",
   "metadata": {},
   "outputs": [],
   "source": [
    "## Tuples are a kind of data structure. It will be specifically used when you do some kind of \n",
    "## some kind of data analysis and all\n",
    "## some or the oter way when we are writing code & all, you will be using tuple extensively\n"
   ]
  }
 ],
 "metadata": {
  "kernelspec": {
   "display_name": "Python 3",
   "language": "python",
   "name": "python3"
  },
  "language_info": {
   "codemirror_mode": {
    "name": "ipython",
    "version": 3
   },
   "file_extension": ".py",
   "mimetype": "text/x-python",
   "name": "python",
   "nbconvert_exporter": "python",
   "pygments_lexer": "ipython3",
   "version": "3.10.18"
  }
 },
 "nbformat": 4,
 "nbformat_minor": 5
}
