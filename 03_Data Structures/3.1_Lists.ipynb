{
 "cells": [
  {
   "cell_type": "markdown",
   "id": "c631c036",
   "metadata": {},
   "source": [
    "#### Introduction To Lists\n",
    "- Lists are ordered, mutable collections of items.\n",
    "- They can contain items of different data types.\n",
    "\n",
    "1. Introduction to Lists\n",
    "2. Creating Lists\n",
    "3. Accessing List Elements\n",
    "4. Modifying List Elements\n",
    "5. List Methods\n",
    "6. Slicing Lists\n",
    "7. Iterating Over Lists\n",
    "8. List Comprehensions\n",
    "9. Nested Lists\n",
    "10. Practical Examples and Common Errors\n"
   ]
  },
  {
   "cell_type": "code",
   "execution_count": null,
   "id": "02aaa8c2",
   "metadata": {},
   "outputs": [],
   "source": [
    "## Mutable collection means all the items that are present in a list, \n",
    "# we can actually change it"
   ]
  },
  {
   "cell_type": "code",
   "execution_count": 6,
   "id": "a86cb703",
   "metadata": {},
   "outputs": [
    {
     "name": "stdout",
     "output_type": "stream",
     "text": [
      "<class 'dict'>\n"
     ]
    }
   ],
   "source": [
    "lst = {}\n",
    "print(type(lst))"
   ]
  },
  {
   "cell_type": "code",
   "execution_count": 5,
   "id": "d84cbb3a",
   "metadata": {},
   "outputs": [
    {
     "name": "stdout",
     "output_type": "stream",
     "text": [
      "['aba', 'amma']\n",
      "<class 'list'>\n"
     ]
    }
   ],
   "source": [
    "lst = [\"aba\" , \"amma\"]\n",
    "print(lst)\n",
    "print(type(lst))"
   ]
  },
  {
   "cell_type": "code",
   "execution_count": 9,
   "id": "42d7850c",
   "metadata": {},
   "outputs": [
    {
     "name": "stdout",
     "output_type": "stream",
     "text": [
      "['lishba', 'Dullah', 'Rama', 'Doba', 6, 9, 27, 24]\n"
     ]
    }
   ],
   "source": [
    "names = [\"lishba\" , \"Dullah\" , \"Rama\" , \"Doba\", 6 , 9 , 27 , 24]\n",
    "print(names)"
   ]
  },
  {
   "cell_type": "code",
   "execution_count": 13,
   "id": "dc816027",
   "metadata": {},
   "outputs": [
    {
     "ename": "SyntaxError",
     "evalue": "leading zeros in decimal integer literals are not permitted; use an 0o prefix for octal integers (3346597288.py, line 1)",
     "output_type": "error",
     "traceback": [
      "\u001b[1;36m  Cell \u001b[1;32mIn[13], line 1\u001b[1;36m\u001b[0m\n\u001b[1;33m    dates = [ 06, 09, 27, 24 ]\u001b[0m\n\u001b[1;37m              ^\u001b[0m\n\u001b[1;31mSyntaxError\u001b[0m\u001b[1;31m:\u001b[0m leading zeros in decimal integer literals are not permitted; use an 0o prefix for octal integers\n"
     ]
    }
   ],
   "source": [
    "dates = [ 06, 09, 27, 24 ]\n",
    "print(dates)"
   ]
  },
  {
   "cell_type": "code",
   "execution_count": 15,
   "id": "c4e346f9",
   "metadata": {},
   "outputs": [
    {
     "name": "stdout",
     "output_type": "stream",
     "text": [
      "[0, 'Hello', 3.14, True]\n"
     ]
    }
   ],
   "source": [
    "mixed_list=[0,\"Hello\",3.14,True]\n",
    "print(mixed_list)"
   ]
  },
  {
   "cell_type": "code",
   "execution_count": 22,
   "id": "bd8305ae",
   "metadata": {},
   "outputs": [],
   "source": [
    "### Accessing List Elements\n",
    "\n",
    "fruits=[\"Raspberry\",\"Gooseberry\",\"Strawberry\",\"Boysenberry\",\"Blueberry\"]\n"
   ]
  },
  {
   "cell_type": "code",
   "execution_count": 24,
   "id": "16b9b792",
   "metadata": {},
   "outputs": [
    {
     "name": "stdout",
     "output_type": "stream",
     "text": [
      "Raspberry\n",
      "Strawberry\n",
      "Blueberry\n",
      "Blueberry\n",
      "Strawberry\n",
      "Raspberry\n"
     ]
    }
   ],
   "source": [
    "print(fruits[0])\n",
    "print(fruits[2])\n",
    "print(fruits[4])\n",
    "print(fruits[-1]) \n",
    "print(fruits[-3]) \n",
    "print(fruits[-0]) "
   ]
  },
  {
   "cell_type": "code",
   "execution_count": 67,
   "id": "7a488159",
   "metadata": {},
   "outputs": [],
   "source": [
    "### Accessing List Elements\n",
    "\n",
    "fruits=[\"Raspberry\",\"Gooseberry\",\"Strawberry\",\"Boysenberry\",\"Blueberry\"]\n"
   ]
  },
  {
   "cell_type": "code",
   "execution_count": 68,
   "id": "5d376890",
   "metadata": {},
   "outputs": [
    {
     "name": "stdout",
     "output_type": "stream",
     "text": [
      "['Gooseberry', 'Strawberry', 'Boysenberry', 'Blueberry']\n",
      "['Gooseberry', 'Strawberry']\n",
      "['Blueberry']\n",
      "['Raspberry', 'Gooseberry', 'Strawberry', 'Boysenberry', 'Blueberry']\n",
      "['Raspberry', 'Gooseberry']\n",
      "[]\n",
      "['Raspberry', 'Gooseberry', 'Strawberry', 'Boysenberry', 'Blueberry']\n",
      "['Raspberry', 'Gooseberry', 'Strawberry', 'Boysenberry']\n"
     ]
    }
   ],
   "source": [
    "print(fruits[1:])  #1st index till last index\n",
    "print(fruits[1:3]) #1st index till 2nd\n",
    "print(fruits[-1:])\n",
    "print(fruits[-0:])\n",
    "print(fruits[-0:-3])\n",
    "print(fruits[-0:-0])\n",
    "print(fruits[-0:5])\n",
    "print(fruits[-0:-1])"
   ]
  },
  {
   "cell_type": "code",
   "execution_count": 69,
   "id": "d894a045",
   "metadata": {},
   "outputs": [
    {
     "name": "stdout",
     "output_type": "stream",
     "text": [
      "['Raspberry', 'Melon', 'Strawberry', 'Boysenberry', 'Blueberry']\n"
     ]
    }
   ],
   "source": [
    "\n",
    "fruits[1]=\"Melon\"\n",
    "print(fruits)"
   ]
  },
  {
   "cell_type": "code",
   "execution_count": 70,
   "id": "2a007f4e",
   "metadata": {},
   "outputs": [
    {
     "name": "stdout",
     "output_type": "stream",
     "text": [
      "['Raspberry', 'Melon', 'Strawberry', 'lemon', 'Blueberry']\n"
     ]
    }
   ],
   "source": [
    "fruits[3]=\"lemon\"\n",
    "print(fruits)"
   ]
  },
  {
   "cell_type": "code",
   "execution_count": 71,
   "id": "c66bf858",
   "metadata": {},
   "outputs": [
    {
     "name": "stdout",
     "output_type": "stream",
     "text": [
      "['Raspberry', 'Melon', 'Strawberry', 'lemon', 'Blueberry']\n"
     ]
    }
   ],
   "source": [
    "fruits[4]=\"Blueberry\"\n",
    "print(fruits)"
   ]
  },
  {
   "cell_type": "code",
   "execution_count": null,
   "id": "a7247026",
   "metadata": {},
   "outputs": [],
   "source": [
    "fruits[1:]=\"watermelon\"\n",
    "#here it considered as character by character not as a single word\n"
   ]
  },
  {
   "cell_type": "code",
   "execution_count": 66,
   "id": "18a393ff",
   "metadata": {},
   "outputs": [
    {
     "data": {
      "text/plain": [
       "['Raspberry', 'w', 'a', 't', 'e', 'r', 'm', 'e', 'l', 'o', 'n']"
      ]
     },
     "execution_count": 66,
     "metadata": {},
     "output_type": "execute_result"
    }
   ],
   "source": [
    "fruits"
   ]
  },
  {
   "cell_type": "code",
   "execution_count": 76,
   "id": "6d1fc5cf",
   "metadata": {},
   "outputs": [],
   "source": [
    "fruits=[\"Raspberry\",\"Gooseberry\",\"Strawberry\",\"Boysenberry\",\"Blueberry\"]\n"
   ]
  },
  {
   "cell_type": "code",
   "execution_count": 77,
   "id": "c2d66581",
   "metadata": {},
   "outputs": [
    {
     "name": "stdout",
     "output_type": "stream",
     "text": [
      "['Raspberry', 'Gooseberry', 'Strawberry', 'Boysenberry', 'Blueberry', 'Blackberry']\n"
     ]
    }
   ],
   "source": [
    "## List Methods\n",
    "\n",
    "fruits.append(\"Blackberry\") ## Add an item to the end\n",
    "print(fruits)"
   ]
  },
  {
   "cell_type": "code",
   "execution_count": 78,
   "id": "72a1a334",
   "metadata": {},
   "outputs": [
    {
     "name": "stdout",
     "output_type": "stream",
     "text": [
      "['Raspberry', 'Wineberry', 'Gooseberry', 'Strawberry', 'Boysenberry', 'Blueberry', 'Blackberry']\n"
     ]
    }
   ],
   "source": [
    "#  I want to append any element at a specific index\n",
    "fruits.insert(1,\"Wineberry\")\n",
    "print(fruits)"
   ]
  },
  {
   "cell_type": "code",
   "execution_count": null,
   "id": "3f588e4e",
   "metadata": {},
   "outputs": [],
   "source": []
  }
 ],
 "metadata": {
  "kernelspec": {
   "display_name": "Python 3",
   "language": "python",
   "name": "python3"
  },
  "language_info": {
   "codemirror_mode": {
    "name": "ipython",
    "version": 3
   },
   "file_extension": ".py",
   "mimetype": "text/x-python",
   "name": "python",
   "nbconvert_exporter": "python",
   "pygments_lexer": "ipython3",
   "version": "3.10.18"
  }
 },
 "nbformat": 4,
 "nbformat_minor": 5
}
