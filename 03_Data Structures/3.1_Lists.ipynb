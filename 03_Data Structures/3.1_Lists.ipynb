{
 "cells": [
  {
   "cell_type": "markdown",
   "id": "c631c036",
   "metadata": {},
   "source": [
    "#### Introduction To Lists\n",
    "- Lists are ordered, mutable collections of items.\n",
    "- They can contain items of different data types.\n",
    "\n",
    "1. Introduction to Lists\n",
    "2. Creating Lists\n",
    "3. Accessing List Elements\n",
    "4. Modifying List Elements\n",
    "5. List Methods\n",
    "6. Slicing Lists\n",
    "7. Iterating Over Lists\n",
    "8. List Comprehensions\n",
    "9. Nested Lists\n",
    "10. Practical Examples and Common Errors\n"
   ]
  },
  {
   "cell_type": "code",
   "execution_count": null,
   "id": "02aaa8c2",
   "metadata": {},
   "outputs": [],
   "source": [
    "## Mutable collection means all the items that are present in a list, \n",
    "# we can actually change it"
   ]
  },
  {
   "cell_type": "code",
   "execution_count": 6,
   "id": "a86cb703",
   "metadata": {},
   "outputs": [
    {
     "name": "stdout",
     "output_type": "stream",
     "text": [
      "<class 'dict'>\n"
     ]
    }
   ],
   "source": [
    "lst = {}\n",
    "print(type(lst))"
   ]
  },
  {
   "cell_type": "code",
   "execution_count": 5,
   "id": "d84cbb3a",
   "metadata": {},
   "outputs": [
    {
     "name": "stdout",
     "output_type": "stream",
     "text": [
      "['aba', 'amma']\n",
      "<class 'list'>\n"
     ]
    }
   ],
   "source": [
    "lst = [\"aba\" , \"amma\"]\n",
    "print(lst)\n",
    "print(type(lst))"
   ]
  },
  {
   "cell_type": "code",
   "execution_count": 9,
   "id": "42d7850c",
   "metadata": {},
   "outputs": [
    {
     "name": "stdout",
     "output_type": "stream",
     "text": [
      "['lishba', 'Dullah', 'Rama', 'Doba', 6, 9, 27, 24]\n"
     ]
    }
   ],
   "source": [
    "names = [\"lishba\" , \"Dullah\" , \"Rama\" , \"Doba\", 6 , 9 , 27 , 24]\n",
    "print(names)"
   ]
  },
  {
   "cell_type": "code",
   "execution_count": 13,
   "id": "dc816027",
   "metadata": {},
   "outputs": [
    {
     "ename": "SyntaxError",
     "evalue": "leading zeros in decimal integer literals are not permitted; use an 0o prefix for octal integers (3346597288.py, line 1)",
     "output_type": "error",
     "traceback": [
      "\u001b[1;36m  Cell \u001b[1;32mIn[13], line 1\u001b[1;36m\u001b[0m\n\u001b[1;33m    dates = [ 06, 09, 27, 24 ]\u001b[0m\n\u001b[1;37m              ^\u001b[0m\n\u001b[1;31mSyntaxError\u001b[0m\u001b[1;31m:\u001b[0m leading zeros in decimal integer literals are not permitted; use an 0o prefix for octal integers\n"
     ]
    }
   ],
   "source": [
    "dates = [ 06, 09, 27, 24 ]\n",
    "print(dates)"
   ]
  },
  {
   "cell_type": "code",
   "execution_count": 15,
   "id": "c4e346f9",
   "metadata": {},
   "outputs": [
    {
     "name": "stdout",
     "output_type": "stream",
     "text": [
      "[0, 'Hello', 3.14, True]\n"
     ]
    }
   ],
   "source": [
    "mixed_list=[0,\"Hello\",3.14,True]\n",
    "print(mixed_list)"
   ]
  },
  {
   "cell_type": "code",
   "execution_count": 22,
   "id": "bd8305ae",
   "metadata": {},
   "outputs": [],
   "source": [
    "### Accessing List Elements\n",
    "\n",
    "fruits=[\"Raspberry\",\"Gooseberry\",\"Strawberry\",\"Boysenberry\",\"Blueberry\"]\n"
   ]
  },
  {
   "cell_type": "code",
   "execution_count": 24,
   "id": "16b9b792",
   "metadata": {},
   "outputs": [
    {
     "name": "stdout",
     "output_type": "stream",
     "text": [
      "Raspberry\n",
      "Strawberry\n",
      "Blueberry\n",
      "Blueberry\n",
      "Strawberry\n",
      "Raspberry\n"
     ]
    }
   ],
   "source": [
    "print(fruits[0])\n",
    "print(fruits[2])\n",
    "print(fruits[4])\n",
    "print(fruits[-1]) \n",
    "print(fruits[-3]) \n",
    "print(fruits[-0]) "
   ]
  },
  {
   "cell_type": "code",
   "execution_count": 67,
   "id": "7a488159",
   "metadata": {},
   "outputs": [],
   "source": [
    "### Accessing List Elements\n",
    "\n",
    "fruits=[\"Raspberry\",\"Gooseberry\",\"Strawberry\",\"Boysenberry\",\"Blueberry\"]\n"
   ]
  },
  {
   "cell_type": "code",
   "execution_count": 68,
   "id": "5d376890",
   "metadata": {},
   "outputs": [
    {
     "name": "stdout",
     "output_type": "stream",
     "text": [
      "['Gooseberry', 'Strawberry', 'Boysenberry', 'Blueberry']\n",
      "['Gooseberry', 'Strawberry']\n",
      "['Blueberry']\n",
      "['Raspberry', 'Gooseberry', 'Strawberry', 'Boysenberry', 'Blueberry']\n",
      "['Raspberry', 'Gooseberry']\n",
      "[]\n",
      "['Raspberry', 'Gooseberry', 'Strawberry', 'Boysenberry', 'Blueberry']\n",
      "['Raspberry', 'Gooseberry', 'Strawberry', 'Boysenberry']\n"
     ]
    }
   ],
   "source": [
    "print(fruits[1:])  #1st index till last index\n",
    "print(fruits[1:3]) #1st index till 2nd\n",
    "print(fruits[-1:])\n",
    "print(fruits[-0:])\n",
    "print(fruits[-0:-3])\n",
    "print(fruits[-0:-0])\n",
    "print(fruits[-0:5])\n",
    "print(fruits[-0:-1])"
   ]
  },
  {
   "cell_type": "code",
   "execution_count": 69,
   "id": "d894a045",
   "metadata": {},
   "outputs": [
    {
     "name": "stdout",
     "output_type": "stream",
     "text": [
      "['Raspberry', 'Melon', 'Strawberry', 'Boysenberry', 'Blueberry']\n"
     ]
    }
   ],
   "source": [
    "\n",
    "fruits[1]=\"Melon\"\n",
    "print(fruits)"
   ]
  },
  {
   "cell_type": "code",
   "execution_count": 70,
   "id": "2a007f4e",
   "metadata": {},
   "outputs": [
    {
     "name": "stdout",
     "output_type": "stream",
     "text": [
      "['Raspberry', 'Melon', 'Strawberry', 'lemon', 'Blueberry']\n"
     ]
    }
   ],
   "source": [
    "fruits[3]=\"lemon\"\n",
    "print(fruits)"
   ]
  },
  {
   "cell_type": "code",
   "execution_count": 71,
   "id": "c66bf858",
   "metadata": {},
   "outputs": [
    {
     "name": "stdout",
     "output_type": "stream",
     "text": [
      "['Raspberry', 'Melon', 'Strawberry', 'lemon', 'Blueberry']\n"
     ]
    }
   ],
   "source": [
    "fruits[4]=\"Blueberry\"\n",
    "print(fruits)"
   ]
  },
  {
   "cell_type": "code",
   "execution_count": null,
   "id": "a7247026",
   "metadata": {},
   "outputs": [],
   "source": [
    "fruits[1:]=\"watermelon\"\n",
    "#here it considered as character by character not as a single word\n"
   ]
  },
  {
   "cell_type": "code",
   "execution_count": 66,
   "id": "18a393ff",
   "metadata": {},
   "outputs": [
    {
     "data": {
      "text/plain": [
       "['Raspberry', 'w', 'a', 't', 'e', 'r', 'm', 'e', 'l', 'o', 'n']"
      ]
     },
     "execution_count": 66,
     "metadata": {},
     "output_type": "execute_result"
    }
   ],
   "source": [
    "fruits"
   ]
  },
  {
   "cell_type": "code",
   "execution_count": 84,
   "id": "6d1fc5cf",
   "metadata": {},
   "outputs": [],
   "source": [
    "fruits=[\"Raspberry\",\"Gooseberry\",\"Strawberry\",\"Boysenberry\",\"Blueberry\"]\n"
   ]
  },
  {
   "cell_type": "code",
   "execution_count": 85,
   "id": "c2d66581",
   "metadata": {},
   "outputs": [
    {
     "name": "stdout",
     "output_type": "stream",
     "text": [
      "['Raspberry', 'Gooseberry', 'Strawberry', 'Boysenberry', 'Blueberry', 'Blackberry']\n"
     ]
    }
   ],
   "source": [
    "## List Methods\n",
    "\n",
    "fruits.append(\"Blackberry\") ## Add an item to the end\n",
    "print(fruits)"
   ]
  },
  {
   "cell_type": "code",
   "execution_count": 86,
   "id": "72a1a334",
   "metadata": {},
   "outputs": [
    {
     "name": "stdout",
     "output_type": "stream",
     "text": [
      "['Raspberry', 'Wineberry', 'Gooseberry', 'Strawberry', 'Boysenberry', 'Blueberry', 'Blackberry']\n"
     ]
    }
   ],
   "source": [
    "#  I want to append any element at a specific index\n",
    "fruits.insert(1,\"Wineberry\")\n",
    "print(fruits)"
   ]
  },
  {
   "cell_type": "code",
   "execution_count": 87,
   "id": "81517dc3",
   "metadata": {},
   "outputs": [
    {
     "name": "stdout",
     "output_type": "stream",
     "text": [
      "['Raspberry', 'Wineberry', 'Strawberry', 'Boysenberry', 'Blueberry', 'Blackberry']\n"
     ]
    }
   ],
   "source": [
    "fruits.remove(\"Gooseberry\") ## Removing the first occurance of an item\n",
    "print(fruits)"
   ]
  },
  {
   "cell_type": "code",
   "execution_count": 95,
   "id": "ccec1766",
   "metadata": {},
   "outputs": [
    {
     "ename": "ValueError",
     "evalue": "list.remove(x): x not in list",
     "output_type": "error",
     "traceback": [
      "\u001b[1;31m---------------------------------------------------------------------------\u001b[0m",
      "\u001b[1;31mValueError\u001b[0m                                Traceback (most recent call last)",
      "Cell \u001b[1;32mIn[95], line 1\u001b[0m\n\u001b[1;32m----> 1\u001b[0m \u001b[43mfruits\u001b[49m\u001b[38;5;241;43m.\u001b[39;49m\u001b[43mremove\u001b[49m\u001b[43m(\u001b[49m\u001b[38;5;124;43m\"\u001b[39;49m\u001b[38;5;124;43mbanana\u001b[39;49m\u001b[38;5;124;43m\"\u001b[39;49m\u001b[43m)\u001b[49m \u001b[38;5;66;03m## Removing the first occurance of an item\u001b[39;00m\n\u001b[0;32m      2\u001b[0m \u001b[38;5;28mprint\u001b[39m(fruits)\n\u001b[0;32m      4\u001b[0m \u001b[38;5;66;03m#error because banana was not in the list\u001b[39;00m\n",
      "\u001b[1;31mValueError\u001b[0m: list.remove(x): x not in list"
     ]
    }
   ],
   "source": [
    "fruits.remove(\"banana\") ## Removing the first occurance of an item\n",
    "print(fruits)\n",
    "\n",
    "#error because banana was not in the list"
   ]
  },
  {
   "cell_type": "code",
   "execution_count": 99,
   "id": "8d521bd9",
   "metadata": {},
   "outputs": [],
   "source": [
    "fruits=[\"Raspberry\",\"Gooseberry\",\"Strawberry\",\"Boysenberry\",\"Blueberry\"]\n"
   ]
  },
  {
   "cell_type": "code",
   "execution_count": 100,
   "id": "e54a4f67",
   "metadata": {},
   "outputs": [
    {
     "name": "stdout",
     "output_type": "stream",
     "text": [
      "Blueberry\n",
      "['Raspberry', 'Gooseberry', 'Strawberry', 'Boysenberry']\n"
     ]
    }
   ],
   "source": [
    "## Remove and return the last element\n",
    "popped_fruits=fruits.pop()\n",
    "print(popped_fruits)\n",
    "print(fruits)\n"
   ]
  },
  {
   "cell_type": "code",
   "execution_count": 101,
   "id": "560da532",
   "metadata": {},
   "outputs": [
    {
     "name": "stdout",
     "output_type": "stream",
     "text": [
      "2\n"
     ]
    }
   ],
   "source": [
    "index=fruits.index(\"Strawberry\")\n",
    "print(index)\n"
   ]
  },
  {
   "cell_type": "code",
   "execution_count": 103,
   "id": "350d5b3e",
   "metadata": {},
   "outputs": [
    {
     "name": "stdout",
     "output_type": "stream",
     "text": [
      "Strawberry\n",
      "['Raspberry', 'Gooseberry', 'Boysenberry']\n"
     ]
    }
   ],
   "source": [
    "## Remove and return the last element\n",
    "popped_fruits=fruits.pop(2)\n",
    "print(popped_fruits)\n",
    "print(fruits)"
   ]
  },
  {
   "cell_type": "code",
   "execution_count": null,
   "id": "47dbca5c",
   "metadata": {},
   "outputs": [],
   "source": []
  },
  {
   "cell_type": "code",
   "execution_count": 114,
   "id": "e6abebc0",
   "metadata": {},
   "outputs": [
    {
     "name": "stdout",
     "output_type": "stream",
     "text": [
      "1\n",
      "['Raspberry', 'Gooseberry', 'Banana', 'Strawberry', 'Boysenberry', 'Blueberry']\n"
     ]
    }
   ],
   "source": [
    "fruits=[\"Raspberry\",\"Gooseberry\",\"Strawberry\",\"Boysenberry\",\"Blueberry\"]\n",
    "\n",
    "fruits.insert (2, \"Banana\")\n",
    "print(fruits.count(\"Banana\"))\n",
    "print (fruits)"
   ]
  },
  {
   "cell_type": "code",
   "execution_count": 116,
   "id": "c375602e",
   "metadata": {},
   "outputs": [],
   "source": [
    "\n",
    "#It starts with a list of fruit names.\n",
    "#It inserts the string \"Banana\" at index 2 (third position) in the list.\n",
    "#It counts how many times \"Banana\" appears in the modified list (which is 1).\n",
    "#It prints that count (1).\n"
   ]
  },
  {
   "cell_type": "code",
   "execution_count": 117,
   "id": "c28de8ed",
   "metadata": {},
   "outputs": [],
   "source": [
    "fruits.sort() ## Sorts the list in ascending order\n"
   ]
  },
  {
   "cell_type": "code",
   "execution_count": 118,
   "id": "9b417ccd",
   "metadata": {},
   "outputs": [
    {
     "data": {
      "text/plain": [
       "['Banana', 'Blueberry', 'Boysenberry', 'Gooseberry', 'Raspberry', 'Strawberry']"
      ]
     },
     "execution_count": 118,
     "metadata": {},
     "output_type": "execute_result"
    }
   ],
   "source": [
    "fruits"
   ]
  },
  {
   "cell_type": "code",
   "execution_count": 119,
   "id": "f313a4bd",
   "metadata": {},
   "outputs": [],
   "source": [
    "fruits.reverse() ## REverse the list\n"
   ]
  },
  {
   "cell_type": "code",
   "execution_count": 120,
   "id": "d3c4a574",
   "metadata": {},
   "outputs": [
    {
     "data": {
      "text/plain": [
       "['Strawberry', 'Raspberry', 'Gooseberry', 'Boysenberry', 'Blueberry', 'Banana']"
      ]
     },
     "execution_count": 120,
     "metadata": {},
     "output_type": "execute_result"
    }
   ],
   "source": [
    "fruits\n"
   ]
  },
  {
   "cell_type": "code",
   "execution_count": 121,
   "id": "08f4adb8",
   "metadata": {},
   "outputs": [
    {
     "name": "stdout",
     "output_type": "stream",
     "text": [
      "[]\n"
     ]
    }
   ],
   "source": [
    "fruits.clear() ## Remove all items from the list\n",
    "\n",
    "print(fruits)"
   ]
  },
  {
   "cell_type": "markdown",
   "id": "d362ac9b",
   "metadata": {},
   "source": [
    "### SLICING LIST"
   ]
  },
  {
   "cell_type": "code",
   "execution_count": 122,
   "id": "7d6bca58",
   "metadata": {},
   "outputs": [],
   "source": [
    "## Slicing List\n",
    "numbers = [1, 2, 3, 4, 5, 6, 7, 8, 9, 10]\n"
   ]
  },
  {
   "cell_type": "code",
   "execution_count": null,
   "id": "204f5d23",
   "metadata": {},
   "outputs": [
    {
     "name": "stdout",
     "output_type": "stream",
     "text": [
      "[3, 4, 5]\n",
      "[1, 2, 3, 4, 5]\n",
      "[6, 7, 8, 9, 10]\n",
      "[1, 3, 5, 7, 9]\n",
      "[10, 9, 8, 7, 6, 5, 4, 3, 2, 1]\n",
      "[]\n"
     ]
    }
   ],
   "source": [
    "print(numbers[2:5])\n",
    "print(numbers[:5])\n",
    "print(numbers[5:])\n",
    "print(numbers[::2]) #jump two steps ahead\n",
    "print(numbers[::-1]) \n",
    "print(numbers[:-0]) "
   ]
  },
  {
   "cell_type": "code",
   "execution_count": 126,
   "id": "53771b13",
   "metadata": {},
   "outputs": [
    {
     "data": {
      "text/plain": [
       "[1, 4, 7, 10]"
      ]
     },
     "execution_count": 126,
     "metadata": {},
     "output_type": "execute_result"
    }
   ],
   "source": [
    "numbers[::3]\n"
   ]
  },
  {
   "cell_type": "code",
   "execution_count": 127,
   "id": "ae476341",
   "metadata": {},
   "outputs": [
    {
     "data": {
      "text/plain": [
       "[10, 8, 6, 4, 2]"
      ]
     },
     "execution_count": 127,
     "metadata": {},
     "output_type": "execute_result"
    }
   ],
   "source": [
    "numbers[::-2]\n"
   ]
  },
  {
   "cell_type": "code",
   "execution_count": 128,
   "id": "98ee644d",
   "metadata": {},
   "outputs": [
    {
     "data": {
      "text/plain": [
       "[10, 7, 4, 1]"
      ]
     },
     "execution_count": 128,
     "metadata": {},
     "output_type": "execute_result"
    }
   ],
   "source": [
    "numbers[::-3]\n"
   ]
  },
  {
   "cell_type": "code",
   "execution_count": 129,
   "id": "4fb7e1c9",
   "metadata": {},
   "outputs": [
    {
     "data": {
      "text/plain": [
       "[1, 4, 7, 10]"
      ]
     },
     "execution_count": 129,
     "metadata": {},
     "output_type": "execute_result"
    }
   ],
   "source": [
    "numbers[::3]"
   ]
  },
  {
   "cell_type": "code",
   "execution_count": 130,
   "id": "fafdd99b",
   "metadata": {},
   "outputs": [
    {
     "name": "stdout",
     "output_type": "stream",
     "text": [
      "1\n",
      "2\n",
      "3\n",
      "4\n",
      "5\n",
      "6\n",
      "7\n",
      "8\n",
      "9\n",
      "10\n"
     ]
    }
   ],
   "source": [
    "### Iterating Over List\n",
    "\n",
    "for number in numbers:\n",
    "    print(number)"
   ]
  },
  {
   "cell_type": "code",
   "execution_count": 138,
   "id": "de50f414",
   "metadata": {},
   "outputs": [
    {
     "name": "stdout",
     "output_type": "stream",
     "text": [
      "['Raspberry', 'Gooseberry', 'Strawberry', 'Boysenberry', 'Blueberry']\n",
      "['Raspberry', 'Gooseberry', 'Strawberry', 'Boysenberry', 'Blueberry']\n",
      "['Raspberry', 'Gooseberry', 'Strawberry', 'Boysenberry', 'Blueberry']\n",
      "['Raspberry', 'Gooseberry', 'Strawberry', 'Boysenberry', 'Blueberry']\n",
      "['Raspberry', 'Gooseberry', 'Strawberry', 'Boysenberry', 'Blueberry']\n"
     ]
    }
   ],
   "source": [
    "fruits=[\"Raspberry\",\"Gooseberry\",\"Strawberry\",\"Boysenberry\",\"Blueberry\"]\n",
    "\n",
    "for fruit in fruits:\n",
    "    print(fruits)"
   ]
  },
  {
   "cell_type": "code",
   "execution_count": null,
   "id": "3fdb4f08",
   "metadata": {},
   "outputs": [
    {
     "name": "stdout",
     "output_type": "stream",
     "text": [
      "Raspberry\n",
      "Gooseberry\n",
      "Strawberry\n",
      "Boysenberry\n",
      "Blueberry\n"
     ]
    }
   ],
   "source": [
    "fruits=[\"Raspberry\",\"Gooseberry\",\"Strawberry\",\"Boysenberry\",\"Blueberry\"]\n",
    "\n",
    "for fruits in fruits:\n",
    "    print(fruits) #next to for wala variable dalna hota hai"
   ]
  },
  {
   "cell_type": "code",
   "execution_count": 139,
   "id": "93918dda",
   "metadata": {},
   "outputs": [
    {
     "name": "stdout",
     "output_type": "stream",
     "text": [
      "Raspberry\n",
      "Gooseberry\n",
      "Strawberry\n",
      "Boysenberry\n",
      "Blueberry\n"
     ]
    }
   ],
   "source": [
    "fruits=[\"Raspberry\",\"Gooseberry\",\"Strawberry\",\"Boysenberry\",\"Blueberry\"]\n",
    "\n",
    "for fruit in fruits:\n",
    "    print(fruit)"
   ]
  },
  {
   "cell_type": "markdown",
   "id": "c7d2a088",
   "metadata": {},
   "source": [
    "#### enumerate() : inbuild function\n",
    "What is enumerate()?\n",
    "enumerate(iterable, start=0) generates pairs of (index, value) for each item in the iterable.\n",
    "The start parameter (optional) sets the starting index (default is 0).\n",
    "It's commonly used in for loops to access both the index and the element without needing range(len(iterable))."
   ]
  },
  {
   "cell_type": "code",
   "execution_count": 140,
   "id": "44399eb4",
   "metadata": {},
   "outputs": [
    {
     "name": "stdout",
     "output_type": "stream",
     "text": [
      "0 1\n",
      "1 2\n",
      "2 3\n",
      "3 4\n",
      "4 5\n",
      "5 6\n",
      "6 7\n",
      "7 8\n",
      "8 9\n",
      "9 10\n"
     ]
    }
   ],
   "source": [
    "## Iterating with index\n",
    "for index, number in enumerate(numbers):\n",
    "    print(index,number)"
   ]
  },
  {
   "cell_type": "code",
   "execution_count": 141,
   "id": "a44610c2",
   "metadata": {},
   "outputs": [
    {
     "name": "stdout",
     "output_type": "stream",
     "text": [
      "Index 0: Raspberry\n",
      "Index 1: Gooseberry\n",
      "Index 2: Strawberry\n",
      "Index 3: Boysenberry\n",
      "Index 4: Blueberry\n"
     ]
    }
   ],
   "source": [
    "fruits = [\"Raspberry\", \"Gooseberry\", \"Strawberry\", \"Boysenberry\", \"Blueberry\"]\n",
    "for index, fruit in enumerate(fruits):\n",
    "    print(f\"Index {index}: {fruit}\")"
   ]
  },
  {
   "cell_type": "code",
   "execution_count": 142,
   "id": "b85f2d8e",
   "metadata": {},
   "outputs": [],
   "source": [
    "## enumerate(fruits) produces pairs like (0, \"Raspberry\"), (1, \"Gooseberry\"), etc.\n",
    "## The loop unpacks each pair into index and fruit.\n",
    "## It prints the index and the corresponding fruit name."
   ]
  },
  {
   "cell_type": "markdown",
   "id": "19058e5e",
   "metadata": {},
   "source": [
    "##### Using enumerate() with a String"
   ]
  },
  {
   "cell_type": "code",
   "execution_count": 143,
   "id": "f2d4c6d8",
   "metadata": {},
   "outputs": [
    {
     "name": "stdout",
     "output_type": "stream",
     "text": [
      "Index 0: h\n",
      "Index 1: e\n",
      "Index 2: l\n",
      "Index 3: l\n",
      "Index 4: o\n"
     ]
    }
   ],
   "source": [
    "text = \"hello\"\n",
    "for index, char in enumerate(text):\n",
    "    print(f\"Index {index}: {char}\")"
   ]
  },
  {
   "cell_type": "markdown",
   "id": "d8e245e2",
   "metadata": {},
   "source": [
    "#### List comprehension"
   ]
  },
  {
   "cell_type": "code",
   "execution_count": 144,
   "id": "edd90c49",
   "metadata": {},
   "outputs": [
    {
     "name": "stdout",
     "output_type": "stream",
     "text": [
      "[0, 1, 4, 9, 16, 25, 36, 49, 64, 81]\n"
     ]
    }
   ],
   "source": [
    "## List comprehension\n",
    "\n",
    "lst = []\n",
    "for x in range (10):\n",
    "    lst.append (x**2)\n",
    "\n",
    "print(lst)\n",
    "\n",
    "# Inside a for loop I am squaring every number & appending in the list\n",
    "# to square every number(x ** 2)"
   ]
  },
  {
   "cell_type": "code",
   "execution_count": 150,
   "id": "691dc561",
   "metadata": {},
   "outputs": [
    {
     "name": "stdout",
     "output_type": "stream",
     "text": [
      "[0, 1, 8, 27, 64, 125, 216, 343]\n"
     ]
    }
   ],
   "source": [
    "lst = []\n",
    "for x in range (8):\n",
    "    lst.append (x**3)\n",
    "\n",
    "print(lst)"
   ]
  },
  {
   "cell_type": "code",
   "execution_count": null,
   "id": "0a94a2f5",
   "metadata": {},
   "outputs": [
    {
     "name": "stdout",
     "output_type": "stream",
     "text": [
      "[]\n"
     ]
    }
   ],
   "source": [
    "lst = []\n",
    "for x in range (0):        #range(-5) => output: [] \n",
    "    lst.append (x**2)\n",
    "\n",
    "print(lst)"
   ]
  },
  {
   "cell_type": "code",
   "execution_count": null,
   "id": "e70ba72b",
   "metadata": {},
   "outputs": [
    {
     "data": {
      "text/plain": [
       "[0, 1, 4, 9, 16, 25, 36, 49, 64, 81]"
      ]
     },
     "execution_count": 151,
     "metadata": {},
     "output_type": "execute_result"
    }
   ],
   "source": [
    "#short LOC\n",
    "[ x ** 2 for x in range (10)]"
   ]
  },
  {
   "cell_type": "code",
   "execution_count": 152,
   "id": "dc7632a3",
   "metadata": {},
   "outputs": [
    {
     "data": {
      "text/plain": [
       "[]"
      ]
     },
     "execution_count": 152,
     "metadata": {},
     "output_type": "execute_result"
    }
   ],
   "source": [
    "[ x ** 2 for x in range (0)]"
   ]
  },
  {
   "cell_type": "markdown",
   "id": "2b426d64",
   "metadata": {},
   "source": [
    "#### List Comprehension\n",
    "1. Basics Syantax:\n",
    "    - [expression for item in iterable]\n",
    "2. with conditional logic \n",
    "    - [expression for item in iterable if condition]\n",
    "3. Nested List Comprehension\n",
    "    - [expression for item1 in iterable1 for item2 in iterable2]\n"
   ]
  },
  {
   "cell_type": "code",
   "execution_count": null,
   "id": "31bf9bbc",
   "metadata": {},
   "outputs": [
    {
     "name": "stdout",
     "output_type": "stream",
     "text": [
      "['RASPBERRY', 'GOOSEBERRY', 'STRAWBERRY', 'BOYSENBERRY', 'BLUEBERRY']\n"
     ]
    }
   ],
   "source": [
    "## Example with the fruits List:\n",
    "fruits = [\"Raspberry\", \"Gooseberry\", \"Strawberry\", \"Boysenberry\", \"Blueberry\"]\n",
    "upper_fruits = [fruit.upper() for fruit in fruits]\n",
    "print(upper_fruits)"
   ]
  },
  {
   "cell_type": "code",
   "execution_count": null,
   "id": "884752f6",
   "metadata": {},
   "outputs": [],
   "source": [
    "## Example with a String:\n",
    "text = \"hello\"\n",
    "upper_chars = [char.upper() for char in text]\n",
    "print(upper_chars)"
   ]
  },
  {
   "cell_type": "code",
   "execution_count": 156,
   "id": "a6dabbf7",
   "metadata": {},
   "outputs": [
    {
     "name": "stdout",
     "output_type": "stream",
     "text": [
      "['Gooseberry', 'Boysenberry']\n"
     ]
    }
   ],
   "source": [
    "## Filters elements based on a condition:\n",
    "#  [expression for item in iterable if condition]\n",
    "\n",
    "fruits = [\"Banana\", \"Gooseberry\", \"Cherry\", \"Boysenberry\", \"Orange\"]\n",
    "berry_fruits = [fruit for fruit in fruits if \"berry\" in fruit.lower()]\n",
    "print(berry_fruits)"
   ]
  },
  {
   "cell_type": "code",
   "execution_count": 157,
   "id": "a9f14833",
   "metadata": {},
   "outputs": [
    {
     "name": "stdout",
     "output_type": "stream",
     "text": [
      "['e', 'o']\n"
     ]
    }
   ],
   "source": [
    "## Example with a String:\n",
    "text = \"hello\"\n",
    "vowels = [char for char in text if char in \"aeiou\"]\n",
    "print(vowels)"
   ]
  },
  {
   "cell_type": "code",
   "execution_count": null,
   "id": "a95f8532",
   "metadata": {},
   "outputs": [],
   "source": [
    "## Combines an expression with a condition:\n",
    "#  [expression for item in iterable if condition]\n",
    "\n"
   ]
  },
  {
   "cell_type": "code",
   "execution_count": 163,
   "id": "a07db8ed",
   "metadata": {},
   "outputs": [
    {
     "name": "stdout",
     "output_type": "stream",
     "text": [
      "['Rasp', 'Goos', 'Bana', 'Blac', 'Stra', 'Boys', 'Blue']\n"
     ]
    }
   ],
   "source": [
    "fruits = [\"Raspberry\", \"Gooseberry\", \"kiwi\", \"lemon\", \"Blackberry\", \"Strawberry\", \"Boysenberry\", \"Blueberry\"]\n",
    "fruits.insert(2, \"Banana\")\n",
    "short_fruits = [fruit[:4] for fruit in fruits if len(fruit) > 5]\n",
    "print(short_fruits)"
   ]
  },
  {
   "cell_type": "code",
   "execution_count": 164,
   "id": "8b9254c9",
   "metadata": {},
   "outputs": [
    {
     "name": "stdout",
     "output_type": "stream",
     "text": [
      "['H', 'L', 'L']\n"
     ]
    }
   ],
   "source": [
    "## Example with a String:\n",
    "text = \"hello\"\n",
    "caps_consonants = [char.upper() for char in text if char not in \"aeiou\"]\n",
    "print(caps_consonants)"
   ]
  },
  {
   "cell_type": "code",
   "execution_count": 166,
   "id": "cea9c952",
   "metadata": {},
   "outputs": [
    {
     "name": "stdout",
     "output_type": "stream",
     "text": [
      "['0: Raspberry', '1: Gooseberry', '2: Strawberry', '3: Boysenberry', '4: Blueberry']\n"
     ]
    }
   ],
   "source": [
    "## List Comprehension with enumerate()\n",
    "# [(expression) for index, item in enumerate(iterable)]\n",
    "\n",
    "fruits = [\"Raspberry\", \"Gooseberry\", \"Strawberry\", \"Boysenberry\", \"Blueberry\"]\n",
    "indexed_fruits = [f\"{index}: {fruit}\" for index, fruit in enumerate(fruits)]\n",
    "print(indexed_fruits)"
   ]
  },
  {
   "cell_type": "code",
   "execution_count": 167,
   "id": "9881d988",
   "metadata": {},
   "outputs": [
    {
     "name": "stdout",
     "output_type": "stream",
     "text": [
      "[(2, 'l'), (3, 'l')]\n"
     ]
    }
   ],
   "source": [
    "## Example with a String:\n",
    "text = \"hello\"\n",
    "indexed_chars = [(index, char) for index, char in enumerate(text) if char == 'l']\n",
    "print(indexed_chars)"
   ]
  },
  {
   "cell_type": "code",
   "execution_count": 171,
   "id": "b7cafe5a",
   "metadata": {},
   "outputs": [
    {
     "name": "stdout",
     "output_type": "stream",
     "text": [
      "['paper', 'pen', 'board', 'chalk']\n"
     ]
    }
   ],
   "source": [
    "## Nested List Comprehension\n",
    "#  [expression for subitem in nested_iterable for item in subitem]\n",
    "\n",
    "nested = [[\"paper\", \"pen\"], [\"board\", \"chalk\"]]\n",
    "flattened = [stationary for sublist in nested for stationary in sublist]\n",
    "print(flattened)\n"
   ]
  },
  {
   "cell_type": "code",
   "execution_count": null,
   "id": "1832a368",
   "metadata": {},
   "outputs": [],
   "source": []
  }
 ],
 "metadata": {
  "kernelspec": {
   "display_name": "Python 3",
   "language": "python",
   "name": "python3"
  },
  "language_info": {
   "codemirror_mode": {
    "name": "ipython",
    "version": 3
   },
   "file_extension": ".py",
   "mimetype": "text/x-python",
   "name": "python",
   "nbconvert_exporter": "python",
   "pygments_lexer": "ipython3",
   "version": "3.10.18"
  }
 },
 "nbformat": 4,
 "nbformat_minor": 5
}
